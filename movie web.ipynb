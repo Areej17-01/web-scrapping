{
 "cells": [
  {
   "cell_type": "code",
   "execution_count": 2,
   "metadata": {},
   "outputs": [],
   "source": [
    "import requests\n",
    "from bs4 import BeautifulSoup\n",
    "base_site=\"https://editorial.rottentomatoes.com/guide/essential-movies-to-watch-now/2/\"\n",
    "response=requests.get(base_site)\n",
    "response\n",
    "html=response.text\n",
    "soup=BeautifulSoup(html,\"lxml\")\n",
    "body=soup.find(\"body\")\n"
   ]
  },
  {
   "cell_type": "code",
   "execution_count": 3,
   "metadata": {},
   "outputs": [
    {
     "data": {
      "text/plain": [
       "<Response [200]>"
      ]
     },
     "execution_count": 3,
     "metadata": {},
     "output_type": "execute_result"
    }
   ],
   "source": [
    "response"
   ]
  },
  {
   "cell_type": "code",
   "execution_count": 4,
   "metadata": {},
   "outputs": [],
   "source": [
    "divs=soup.find_all(\"div\",class_=\"col-sm-18 col-full-xs countdown-item-content\")"
   ]
  },
  {
   "cell_type": "code",
   "execution_count": 5,
   "metadata": {},
   "outputs": [
    {
     "data": {
      "text/plain": [
       "bs4.element.ResultSet"
      ]
     },
     "execution_count": 5,
     "metadata": {},
     "output_type": "execute_result"
    }
   ],
   "source": [
    "type(divs)"
   ]
  },
  {
   "cell_type": "code",
   "execution_count": 6,
   "metadata": {},
   "outputs": [],
   "source": [
    "headings=[i.find(\"h2\")for i in divs]"
   ]
  },
  {
   "cell_type": "code",
   "execution_count": 7,
   "metadata": {},
   "outputs": [
    {
     "data": {
      "text/plain": [
       "[<h2><a href=\"https://www.rottentomatoes.com/m/jurassic_park\">Jurassic Park</a> <span class=\"subtle start-year\">(1993)</span> <span class=\"icon tiny certified\" title=\"Certified Fresh\"></span> <span class=\"tMeterScore\">92%</span></h2>,\n",
       " <h2><a href=\"https://www.rottentomatoes.com/m/1011615-king_kong\">King Kong</a> <span class=\"subtle start-year\">(1933)</span> <span class=\"icon tiny certified\" title=\"Certified Fresh\"></span> <span class=\"tMeterScore\">98%</span></h2>,\n",
       " <h2><a href=\"https://www.rottentomatoes.com/m/la_confidential\">L.A. Confidential</a> <span class=\"subtle start-year\">(1997)</span> <span class=\"icon tiny certified\" title=\"Certified Fresh\"></span> <span class=\"tMeterScore\">99%</span></h2>,\n",
       " <h2><a href=\"https://www.rottentomatoes.com/m/lavventura\">L'Avventura</a> <span class=\"subtle start-year\">(1960)</span> <span class=\"icon tiny certified\" title=\"Certified Fresh\"></span> <span class=\"tMeterScore\">94%</span></h2>,\n",
       " <h2><a href=\"https://www.rottentomatoes.com/m/la_bamba\">La Bamba</a> <span class=\"subtle start-year\">(1987)</span> <span class=\"icon tiny certified\" title=\"Certified Fresh\"></span> <span class=\"tMeterScore\">82%</span></h2>,\n",
       " <h2><a href=\"https://www.rottentomatoes.com/m/dolce_vita\">La dolce vita</a> <span class=\"subtle start-year\">(1960)</span> <span class=\"icon tiny certified\" title=\"Certified Fresh\"></span> <span class=\"tMeterScore\">96%</span></h2>,\n",
       " <h2><a href=\"https://www.rottentomatoes.com/m/lady_bird\">Lady Bird</a> <span class=\"subtle start-year\">(2017)</span> <span class=\"icon tiny certified\" title=\"Certified Fresh\"></span> <span class=\"tMeterScore\">99%</span></h2>,\n",
       " <h2><a href=\"https://www.rottentomatoes.com/m/lady_eve\">The Lady Eve</a> <span class=\"subtle start-year\">(1941)</span> <span class=\"icon tiny certified\" title=\"Certified Fresh\"></span> <span class=\"tMeterScore\">100%</span></h2>,\n",
       " <h2><a href=\"https://www.rottentomatoes.com/m/lawrence_of_arabia\">Lawrence of Arabia</a> <span class=\"subtle start-year\">(1962)</span> <span class=\"icon tiny certified\" title=\"Certified Fresh\"></span> <span class=\"tMeterScore\">93%</span></h2>,\n",
       " <h2><a href=\"https://www.rottentomatoes.com/m/let_the_right_one_in\">Let the Right One In</a> <span class=\"subtle start-year\">(2008)</span> <span class=\"icon tiny certified\" title=\"Certified Fresh\"></span> <span class=\"tMeterScore\">98%</span></h2>,\n",
       " <h2><a href=\"https://www.rottentomatoes.com/m/lethal_weapon\">Lethal Weapon</a> <span class=\"subtle start-year\">(1987)</span> <span class=\"icon tiny certified\" title=\"Certified Fresh\"></span> <span class=\"tMeterScore\">80%</span></h2>,\n",
       " <h2><a href=\"https://www.rottentomatoes.com/m/like_water_for_chocolate\">Like Water for Chocolate</a> <span class=\"subtle start-year\">(1992)</span> <span class=\"icon tiny certified\" title=\"Certified Fresh\"></span> <span class=\"tMeterScore\">87%</span></h2>,\n",
       " <h2><a href=\"https://www.rottentomatoes.com/m/the_lion_king\">The Lion King</a> <span class=\"subtle start-year\">(1994)</span> <span class=\"icon tiny certified\" title=\"Certified Fresh\"></span> <span class=\"tMeterScore\">93%</span></h2>,\n",
       " <h2><a href=\"https://www.rottentomatoes.com/m/the_little_mermaid_1989\">The Little Mermaid</a> <span class=\"subtle start-year\">(1989)</span> <span class=\"icon tiny certified\" title=\"Certified Fresh\"></span> <span class=\"tMeterScore\">93%</span></h2>,\n",
       " <h2><a href=\"https://www.rottentomatoes.com/m/1012515-little_shop_of_horrors\">Little Shop of Horrors</a> <span class=\"subtle start-year\">(1986)</span> <span class=\"icon tiny certified\" title=\"Certified Fresh\"></span> <span class=\"tMeterScore\">90%</span></h2>,\n",
       " <h2><a href=\"https://www.rottentomatoes.com/m/logan_2017\">Logan</a> <span class=\"subtle start-year\">(2017)</span> <span class=\"icon tiny certified\" title=\"Certified Fresh\"></span> <span class=\"tMeterScore\">93%</span></h2>,\n",
       " <h2><a href=\"https://www.rottentomatoes.com/m/the_lord_of_the_rings_the_fellowship_of_the_ring\">The Lord of the Rings: The Fellowship of the Ring</a> <span class=\"subtle start-year\">(2001)</span> <span class=\"icon tiny certified\" title=\"Certified Fresh\"></span> <span class=\"tMeterScore\">91%</span></h2>,\n",
       " <h2><a href=\"https://www.rottentomatoes.com/m/the_lord_of_the_rings_the_return_of_the_king\">The Lord of the Rings: The Return of the King</a> <span class=\"subtle start-year\">(2003)</span> <span class=\"icon tiny certified\" title=\"Certified Fresh\"></span> <span class=\"tMeterScore\">93%</span></h2>,\n",
       " <h2><a href=\"https://www.rottentomatoes.com/m/the_lord_of_the_rings_the_two_towers\">The Lord of the Rings: The Two Towers</a> <span class=\"subtle start-year\">(2002)</span> <span class=\"icon tiny certified\" title=\"Certified Fresh\"></span> <span class=\"tMeterScore\">95%</span></h2>,\n",
       " <h2><a href=\"https://www.rottentomatoes.com/m/lost_in_translation\">Lost in Translation</a> <span class=\"subtle start-year\">(2003)</span> <span class=\"icon tiny certified\" title=\"Certified Fresh\"></span> <span class=\"tMeterScore\">95%</span></h2>,\n",
       " <h2><a href=\"https://www.rottentomatoes.com/m/love_and_basketball\">Love &amp; Basketball</a> <span class=\"subtle start-year\">(2000)</span> <span class=\"icon tiny certified\" title=\"Certified Fresh\"></span> <span class=\"tMeterScore\">83%</span></h2>,\n",
       " <h2><a href=\"https://www.rottentomatoes.com/m/mad_max_fury_road\">Mad Max: Fury Road</a> <span class=\"subtle start-year\">(2015)</span> <span class=\"icon tiny certified\" title=\"Certified Fresh\"></span> <span class=\"tMeterScore\">97%</span></h2>,\n",
       " <h2><a href=\"https://www.rottentomatoes.com/m/1042135-malcolm_x\">Malcolm X</a> <span class=\"subtle start-year\">(1992)</span> <span class=\"icon tiny certified\" title=\"Certified Fresh\"></span> <span class=\"tMeterScore\">89%</span></h2>,\n",
       " <h2><a href=\"https://www.rottentomatoes.com/m/1013139-maltese_falcon\">The Maltese Falcon</a> <span class=\"subtle start-year\">(1941)</span> <span class=\"icon tiny certified\" title=\"Certified Fresh\"></span> <span class=\"tMeterScore\">100%</span></h2>,\n",
       " <h2><a href=\"https://www.rottentomatoes.com/m/1013227-manchurian_candidate\">The Manchurian Candidate</a> <span class=\"subtle start-year\">(1962)</span> <span class=\"icon tiny certified\" title=\"Certified Fresh\"></span> <span class=\"tMeterScore\">97%</span></h2>,\n",
       " <h2><a href=\"https://www.rottentomatoes.com/m/matrix\">The Matrix</a> <span class=\"subtle start-year\">(1999)</span> <span class=\"icon tiny certified\" title=\"Certified Fresh\"></span> <span class=\"tMeterScore\">88%</span></h2>,\n",
       " <h2><a href=\"https://www.rottentomatoes.com/m/mean_girls\">Mean Girls</a> <span class=\"subtle start-year\">(2004)</span> <span class=\"icon tiny certified\" title=\"Certified Fresh\"></span> <span class=\"tMeterScore\">84%</span></h2>,\n",
       " <h2><a href=\"https://www.rottentomatoes.com/m/1013775-metropolis\">Metropolis</a> <span class=\"subtle start-year\">(1927)</span> <span class=\"icon tiny certified\" title=\"Certified Fresh\"></span> <span class=\"tMeterScore\">97%</span></h2>,\n",
       " <h2><a href=\"https://www.rottentomatoes.com/m/modern_times\">Modern Times</a> <span class=\"subtle start-year\">(1936)</span> <span class=\"icon tiny certified\" title=\"Certified Fresh\"></span> <span class=\"tMeterScore\">98%</span></h2>,\n",
       " <h2><a href=\"https://www.rottentomatoes.com/m/monsoon_wedding\">Monsoon Wedding</a> <span class=\"subtle start-year\">(2001)</span> <span class=\"icon tiny certified\" title=\"Certified Fresh\"></span> <span class=\"tMeterScore\">95%</span></h2>,\n",
       " <h2><a href=\"https://www.rottentomatoes.com/m/monty_python_and_the_holy_grail\">Monty Python and the Holy Grail</a> <span class=\"subtle start-year\">(1975)</span> <span class=\"icon tiny certified\" title=\"Certified Fresh\"></span> <span class=\"tMeterScore\">97%</span></h2>,\n",
       " <h2><a href=\"https://www.rottentomatoes.com/m/moonlight_2016\">Moonlight</a> <span class=\"subtle start-year\">(2016)</span> <span class=\"icon tiny certified\" title=\"Certified Fresh\"></span> <span class=\"tMeterScore\">98%</span></h2>,\n",
       " <h2><a href=\"https://www.rottentomatoes.com/m/mulholland_dr\">Mulholland Dr.</a> <span class=\"subtle start-year\">(2001)</span> <span class=\"icon tiny certified\" title=\"Certified Fresh\"></span> <span class=\"tMeterScore\">83%</span></h2>,\n",
       " <h2><a href=\"https://www.rottentomatoes.com/m/my_left_foot\">My Left Foot</a> <span class=\"subtle start-year\">(1989)</span> <span class=\"icon tiny certified\" title=\"Certified Fresh\"></span> <span class=\"tMeterScore\">98%</span></h2>,\n",
       " <h2><a href=\"https://www.rottentomatoes.com/m/my_neighbor_totoro\">My Neighbor Totoro</a> <span class=\"subtle start-year\">(1988)</span> <span class=\"icon tiny certified\" title=\"Certified Fresh\"></span> <span class=\"tMeterScore\">94%</span></h2>,\n",
       " <h2><a href=\"https://www.rottentomatoes.com/m/1048185-naked\">Naked</a> <span class=\"subtle start-year\">(1993)</span> <span class=\"icon tiny certified\" title=\"Certified Fresh\"></span> <span class=\"tMeterScore\">88%</span></h2>,\n",
       " <h2><a href=\"https://www.rottentomatoes.com/m/the_naked_gun_from_the_files_of_police_squad\">The Naked Gun</a> <span class=\"subtle start-year\">(1988)</span> <span class=\"icon tiny certified\" title=\"Certified Fresh\"></span> <span class=\"tMeterScore\">88%</span></h2>,\n",
       " <h2><a href=\"https://www.rottentomatoes.com/m/nashville\">Nashville</a> <span class=\"subtle start-year\">(1975)</span> <span class=\"icon tiny certified\" title=\"Certified Fresh\"></span> <span class=\"tMeterScore\">91%</span></h2>,\n",
       " <h2><a href=\"https://www.rottentomatoes.com/m/national_lampoons_animal_house\">National Lampoon's Animal House</a> <span class=\"subtle start-year\">(1978)</span> <span class=\"icon tiny certified\" title=\"Certified Fresh\"></span> <span class=\"tMeterScore\">90%</span></h2>,\n",
       " <h2><a href=\"https://www.rottentomatoes.com/m/network\">Network</a> <span class=\"subtle start-year\">(1976)</span> <span class=\"icon tiny certified\" title=\"Certified Fresh\"></span> <span class=\"tMeterScore\">91%</span></h2>,\n",
       " <h2><a href=\"https://www.rottentomatoes.com/m/night_of_the_hunter\">The Night of the Hunter</a> <span class=\"subtle start-year\">(1955)</span> <span class=\"icon tiny certified\" title=\"Certified Fresh\"></span> <span class=\"tMeterScore\">95%</span></h2>,\n",
       " <h2><a href=\"https://www.rottentomatoes.com/m/night_of_the_living_dead\">Night of the Living Dead</a> <span class=\"subtle start-year\">(1968)</span> <span class=\"icon tiny certified\" title=\"Certified Fresh\"></span> <span class=\"tMeterScore\">96%</span></h2>,\n",
       " <h2><a href=\"https://www.rottentomatoes.com/m/nightmare_on_elm_street\">A Nightmare on Elm Street</a> <span class=\"subtle start-year\">(1984)</span> <span class=\"icon tiny certified\" title=\"Certified Fresh\"></span> <span class=\"tMeterScore\">94%</span></h2>,\n",
       " <h2><a href=\"https://www.rottentomatoes.com/m/no_country_for_old_men\">No Country for Old Men</a> <span class=\"subtle start-year\">(2007)</span> <span class=\"icon tiny certified\" title=\"Certified Fresh\"></span> <span class=\"tMeterScore\">93%</span></h2>,\n",
       " <h2><a href=\"https://www.rottentomatoes.com/m/north-by-northwest\">North by Northwest</a> <span class=\"subtle start-year\">(1959)</span> <span class=\"icon tiny certified\" title=\"Certified Fresh\"></span> <span class=\"tMeterScore\">97%</span></h2>,\n",
       " <h2><a href=\"https://www.rottentomatoes.com/m/notting_hill\">Notting Hill</a> <span class=\"subtle start-year\">(1999)</span> <span class=\"icon tiny certified\" title=\"Certified Fresh\"></span> <span class=\"tMeterScore\">83%</span></h2>,\n",
       " <h2><a href=\"https://www.rottentomatoes.com/m/oldboy\">Oldboy</a> <span class=\"subtle start-year\">(2003)</span> <span class=\"icon tiny certified\" title=\"Certified Fresh\"></span> <span class=\"tMeterScore\">81%</span></h2>,\n",
       " <h2><a href=\"https://www.rottentomatoes.com/m/on_the_waterfront\">On the Waterfront</a> <span class=\"subtle start-year\">(1954)</span> <span class=\"icon tiny certified\" title=\"Certified Fresh\"></span> <span class=\"tMeterScore\">99%</span></h2>,\n",
       " <h2><a href=\"https://www.rottentomatoes.com/m/one_flew_over_the_cuckoos_nest\">One Flew Over the Cuckoo's Nest</a> <span class=\"subtle start-year\">(1975)</span> <span class=\"icon tiny certified\" title=\"Certified Fresh\"></span> <span class=\"tMeterScore\">94%</span></h2>,\n",
       " <h2><a href=\"https://www.rottentomatoes.com/m/only_yesterday_1991\">Only Yesterday</a> <span class=\"subtle start-year\">(1991)</span> <span class=\"icon tiny certified\" title=\"Certified Fresh\"></span> <span class=\"tMeterScore\">100%</span></h2>,\n",
       " <h2><a href=\"https://www.rottentomatoes.com/m/open_city\">Open City</a> <span class=\"subtle start-year\">(1945)</span> <span class=\"icon tiny certified\" title=\"Certified Fresh\"></span> <span class=\"tMeterScore\">100%</span></h2>,\n",
       " <h2><a href=\"https://www.rottentomatoes.com/m/pans_labyrinth\">Pan's Labyrinth</a> <span class=\"subtle start-year\">(2006)</span> <span class=\"icon tiny certified\" title=\"Certified Fresh\"></span> <span class=\"tMeterScore\">95%</span></h2>,\n",
       " <h2><a href=\"https://www.rottentomatoes.com/m/pandoras_box\">Pandora's Box</a> <span class=\"subtle start-year\">(1929)</span> <span class=\"icon tiny certified\" title=\"Certified Fresh\"></span> <span class=\"tMeterScore\">93%</span></h2>,\n",
       " <h2><a href=\"https://www.rottentomatoes.com/m/parasite_2019\">Parasite</a> <span class=\"subtle start-year\">(2019)</span> <span class=\"icon tiny certified\" title=\"Certified Fresh\"></span> <span class=\"tMeterScore\">98%</span></h2>,\n",
       " <h2><a href=\"https://www.rottentomatoes.com/m/passion_of_joan_of_arc\">The Passion of Joan of Arc</a> <span class=\"subtle start-year\">(1928)</span> <span class=\"icon tiny certified\" title=\"Certified Fresh\"></span> <span class=\"tMeterScore\">98%</span></h2>,\n",
       " <h2><a href=\"https://www.rottentomatoes.com/m/pather_panchali\">Pather Panchali</a> <span class=\"subtle start-year\">(1955)</span> <span class=\"icon tiny certified\" title=\"Certified Fresh\"></span> <span class=\"tMeterScore\">97%</span></h2>,\n",
       " <h2><a href=\"https://www.rottentomatoes.com/m/philadelphia_story\">The Philadelphia Story</a> <span class=\"subtle start-year\">(1940)</span> <span class=\"icon tiny certified\" title=\"Certified Fresh\"></span> <span class=\"tMeterScore\">100%</span></h2>,\n",
       " <h2><a href=\"https://www.rottentomatoes.com/m/piano\">The Piano</a> <span class=\"subtle start-year\">(1993)</span> <span class=\"icon tiny certified\" title=\"Certified Fresh\"></span> <span class=\"tMeterScore\">90%</span></h2>,\n",
       " <h2><a href=\"https://www.rottentomatoes.com/m/pinocchio_1940\">Pinocchio</a> <span class=\"subtle start-year\">(1940)</span> <span class=\"icon tiny certified\" title=\"Certified Fresh\"></span> <span class=\"tMeterScore\">100%</span></h2>,\n",
       " <h2><a href=\"https://www.rottentomatoes.com/m/pitch_perfect\">Pitch Perfect</a> <span class=\"subtle start-year\">(2012)</span> <span class=\"icon tiny certified\" title=\"Certified Fresh\"></span> <span class=\"tMeterScore\">81%</span></h2>,\n",
       " <h2><a href=\"https://www.rottentomatoes.com/m/player\">The Player</a> <span class=\"subtle start-year\">(1992)</span> <span class=\"icon tiny certified\" title=\"Certified Fresh\"></span> <span class=\"tMeterScore\">98%</span></h2>,\n",
       " <h2><a href=\"https://www.rottentomatoes.com/m/playtime\">Playtime</a> <span class=\"subtle start-year\">(1967)</span> <span class=\"icon tiny certified\" title=\"Certified Fresh\"></span> <span class=\"tMeterScore\">98%</span></h2>,\n",
       " <h2><a href=\"https://www.rottentomatoes.com/m/portrait_of_a_lady_on_fire\">Portrait of a Lady on Fire</a> <span class=\"subtle start-year\">(2019)</span> <span class=\"icon tiny certified\" title=\"Certified Fresh\"></span> <span class=\"tMeterScore\">98%</span></h2>,\n",
       " <h2><a href=\"https://www.rottentomatoes.com/m/pretty_in_pink\">Pretty in Pink</a> <span class=\"subtle start-year\">(1986)</span> <span class=\"icon tiny certified\" title=\"Certified Fresh\"></span> <span class=\"tMeterScore\">73%</span></h2>,\n",
       " <h2><a href=\"https://www.rottentomatoes.com/m/princess_bride\">The Princess Bride</a> <span class=\"subtle start-year\">(1987)</span> <span class=\"icon tiny certified\" title=\"Certified Fresh\"></span> <span class=\"tMeterScore\">97%</span></h2>,\n",
       " <h2><a href=\"https://www.rottentomatoes.com/m/princess_mononoke_1999\">Princess Mononoke</a> <span class=\"subtle start-year\">(1997)</span> <span class=\"icon tiny certified\" title=\"Certified Fresh\"></span> <span class=\"tMeterScore\">93%</span></h2>,\n",
       " <h2><a href=\"https://www.rottentomatoes.com/m/psycho\">Psycho</a> <span class=\"subtle start-year\">(1960)</span> <span class=\"icon tiny certified\" title=\"Certified Fresh\"></span> <span class=\"tMeterScore\">96%</span></h2>,\n",
       " <h2><a href=\"https://www.rottentomatoes.com/m/pulp_fiction\">Pulp Fiction</a> <span class=\"subtle start-year\">(1994)</span> <span class=\"icon tiny certified\" title=\"Certified Fresh\"></span> <span class=\"tMeterScore\">92%</span></h2>,\n",
       " <h2><a href=\"https://www.rottentomatoes.com/m/rafiki_2019\">Rafiki</a> <span class=\"subtle start-year\">(2018)</span> <span class=\"icon tiny certified\" title=\"Certified Fresh\"></span> <span class=\"tMeterScore\">93%</span></h2>,\n",
       " <h2><a href=\"https://www.rottentomatoes.com/m/raging_bull\">Raging Bull</a> <span class=\"subtle start-year\">(1980)</span> <span class=\"icon tiny certified\" title=\"Certified Fresh\"></span> <span class=\"tMeterScore\">94%</span></h2>,\n",
       " <h2><a href=\"https://www.rottentomatoes.com/m/raiders_of_the_lost_ark\">Raiders of the Lost Ark</a> <span class=\"subtle start-year\">(1981)</span> <span class=\"icon tiny certified\" title=\"Certified Fresh\"></span> <span class=\"tMeterScore\">95%</span></h2>,\n",
       " <h2><a href=\"https://www.rottentomatoes.com/m/rashomon\">Rashomon</a> <span class=\"subtle start-year\">(1950)</span> <span class=\"icon tiny certified\" title=\"Certified Fresh\"></span> <span class=\"tMeterScore\">98%</span></h2>,\n",
       " <h2><a href=\"https://www.rottentomatoes.com/m/1017289-rear_window\">Rear Window</a> <span class=\"subtle start-year\">(1954)</span> <span class=\"icon tiny certified\" title=\"Certified Fresh\"></span> <span class=\"tMeterScore\">98%</span></h2>,\n",
       " <h2><a href=\"https://www.rottentomatoes.com/m/1017346-red_shoes\">The Red Shoes</a> <span class=\"subtle start-year\">(1948)</span> <span class=\"icon tiny certified\" title=\"Certified Fresh\"></span> <span class=\"tMeterScore\">97%</span></h2>,\n",
       " <h2><a href=\"https://www.rottentomatoes.com/m/repo_man\">Repo Man</a> <span class=\"subtle start-year\">(1984)</span> <span class=\"icon tiny certified\" title=\"Certified Fresh\"></span> <span class=\"tMeterScore\">98%</span></h2>,\n",
       " <h2><a href=\"https://www.rottentomatoes.com/m/requiem_for_a_dream\">Requiem for a Dream</a> <span class=\"subtle start-year\">(2000)</span> <span class=\"icon tiny certified\" title=\"Certified Fresh\"></span> <span class=\"tMeterScore\">79%</span></h2>,\n",
       " <h2><a href=\"https://www.rottentomatoes.com/m/1017712-robocop\">RoboCop</a> <span class=\"subtle start-year\">(1987)</span> <span class=\"icon tiny certified\" title=\"Certified Fresh\"></span> <span class=\"tMeterScore\">90%</span></h2>,\n",
       " <h2><a href=\"https://www.rottentomatoes.com/m/1017776-rocky\">Rocky</a> <span class=\"subtle start-year\">(1976)</span> <span class=\"icon tiny certified\" title=\"Certified Fresh\"></span> <span class=\"tMeterScore\">93%</span></h2>,\n",
       " <h2><a href=\"https://www.rottentomatoes.com/m/roman_holiday\">Roman Holiday</a> <span class=\"subtle start-year\">(1953)</span> <span class=\"icon tiny certified\" title=\"Certified Fresh\"></span> <span class=\"tMeterScore\">97%</span></h2>,\n",
       " <h2><a href=\"https://www.rottentomatoes.com/m/rosemarys_baby\">Rosemary's Baby</a> <span class=\"subtle start-year\">(1968)</span> <span class=\"icon tiny certified\" title=\"Certified Fresh\"></span> <span class=\"tMeterScore\">96%</span></h2>,\n",
       " <h2><a href=\"https://www.rottentomatoes.com/m/the_rules_of_the_game\">The Rules of the Game</a> <span class=\"subtle start-year\">(1939)</span> <span class=\"icon tiny certified\" title=\"Certified Fresh\"></span> <span class=\"tMeterScore\">96%</span></h2>,\n",
       " <h2><a href=\"https://www.rottentomatoes.com/m/saving_face\">Saving Face</a> <span class=\"subtle start-year\">(2004)</span> <span class=\"icon tiny certified\" title=\"Certified Fresh\"></span> <span class=\"tMeterScore\">86%</span></h2>,\n",
       " <h2><a href=\"https://www.rottentomatoes.com/m/saving_private_ryan\">Saving Private Ryan</a> <span class=\"subtle start-year\">(1998)</span> <span class=\"icon tiny certified\" title=\"Certified Fresh\"></span> <span class=\"tMeterScore\">93%</span></h2>,\n",
       " <h2><a href=\"https://www.rottentomatoes.com/m/say_anything\">Say Anything...</a> <span class=\"subtle start-year\">(1989)</span> <span class=\"icon tiny certified\" title=\"Certified Fresh\"></span> <span class=\"tMeterScore\">98%</span></h2>,\n",
       " <h2><a href=\"https://www.rottentomatoes.com/m/scarface\">Scarface</a> <span class=\"subtle start-year\">(1983)</span> <span class=\"icon tiny certified\" title=\"Certified Fresh\"></span> <span class=\"tMeterScore\">82%</span></h2>,\n",
       " <h2><a href=\"https://www.rottentomatoes.com/m/schindlers_list\">Schindler's List</a> <span class=\"subtle start-year\">(1993)</span> <span class=\"icon tiny certified\" title=\"Certified Fresh\"></span> <span class=\"tMeterScore\">98%</span></h2>,\n",
       " <h2><a href=\"https://www.rottentomatoes.com/m/1074316-scream\">Scream</a> <span class=\"subtle start-year\">(1996)</span> <span class=\"icon tiny certified\" title=\"Certified Fresh\"></span> <span class=\"tMeterScore\">79%</span></h2>,\n",
       " <h2><a href=\"https://www.rottentomatoes.com/m/sea_inside\">The Sea Inside</a> <span class=\"subtle start-year\">(2004)</span> <span class=\"icon tiny certified\" title=\"Certified Fresh\"></span> <span class=\"tMeterScore\">84%</span></h2>,\n",
       " <h2><a href=\"https://www.rottentomatoes.com/m/searchers\">The Searchers</a> <span class=\"subtle start-year\">(1956)</span> <span class=\"icon tiny certified\" title=\"Certified Fresh\"></span> <span class=\"tMeterScore\">96%</span></h2>,\n",
       " <h2><a href=\"https://www.rottentomatoes.com/m/selma\">Selma</a> <span class=\"subtle start-year\">(2014)</span> <span class=\"icon tiny certified\" title=\"Certified Fresh\"></span> <span class=\"tMeterScore\">99%</span></h2>,\n",
       " <h2><a href=\"https://www.rottentomatoes.com/m/seven\">Seven</a> <span class=\"subtle start-year\">(1995)</span> <span class=\"icon tiny certified\" title=\"Certified Fresh\"></span> <span class=\"tMeterScore\">82%</span></h2>,\n",
       " <h2><a href=\"https://www.rottentomatoes.com/m/seven_samurai_1956\">Seven Samurai</a> <span class=\"subtle start-year\">(1954)</span> <span class=\"icon tiny certified\" title=\"Certified Fresh\"></span> <span class=\"tMeterScore\">100%</span></h2>,\n",
       " <h2><a href=\"https://www.rottentomatoes.com/m/seventh_seal\">The Seventh Seal</a> <span class=\"subtle start-year\">(1957)</span> <span class=\"icon tiny certified\" title=\"Certified Fresh\"></span> <span class=\"tMeterScore\">94%</span></h2>,\n",
       " <h2><a href=\"https://www.rottentomatoes.com/m/1018699-shaft\">Shaft</a> <span class=\"subtle start-year\">(1971)</span> <span class=\"icon tiny certified\" title=\"Certified Fresh\"></span> <span class=\"tMeterScore\">88%</span></h2>,\n",
       " <h2><a href=\"https://www.rottentomatoes.com/m/shaun_of_the_dead\">Shaun of the Dead</a> <span class=\"subtle start-year\">(2004)</span> <span class=\"icon tiny certified\" title=\"Certified Fresh\"></span> <span class=\"tMeterScore\">92%</span></h2>,\n",
       " <h2><a href=\"https://www.rottentomatoes.com/m/shawshank_redemption\">The Shawshank Redemption</a> <span class=\"subtle start-year\">(1994)</span> <span class=\"icon tiny certified\" title=\"Certified Fresh\"></span> <span class=\"tMeterScore\">91%</span></h2>,\n",
       " <h2><a href=\"https://www.rottentomatoes.com/m/shining\">The Shining</a> <span class=\"subtle start-year\">(1980)</span> <span class=\"icon tiny certified\" title=\"Certified Fresh\"></span> <span class=\"tMeterScore\">84%</span></h2>,\n",
       " <h2><a href=\"https://www.rottentomatoes.com/m/shoplifters\">Shoplifters</a> <span class=\"subtle start-year\">(2018)</span> <span class=\"icon tiny certified\" title=\"Certified Fresh\"></span> <span class=\"tMeterScore\">99%</span></h2>,\n",
       " <h2><a href=\"https://www.rottentomatoes.com/m/shrek\">Shrek</a> <span class=\"subtle start-year\">(2001)</span> <span class=\"icon tiny certified\" title=\"Certified Fresh\"></span> <span class=\"tMeterScore\">88%</span></h2>,\n",
       " <h2><a href=\"https://www.rottentomatoes.com/m/silence_of_the_lambs\">The Silence of the Lambs</a> <span class=\"subtle start-year\">(1991)</span> <span class=\"icon tiny certified\" title=\"Certified Fresh\"></span> <span class=\"tMeterScore\">96%</span></h2>,\n",
       " <h2><a href=\"https://www.rottentomatoes.com/m/singin_in_the_rain\">Singin' in the Rain</a> <span class=\"subtle start-year\">(1952)</span> <span class=\"icon tiny certified\" title=\"Certified Fresh\"></span> <span class=\"tMeterScore\">100%</span></h2>,\n",
       " <h2><a href=\"https://www.rottentomatoes.com/m/sixth_sense\">The Sixth Sense</a> <span class=\"subtle start-year\">(1999)</span> <span class=\"icon tiny certified\" title=\"Certified Fresh\"></span> <span class=\"tMeterScore\">86%</span></h2>,\n",
       " <h2><a href=\"https://www.rottentomatoes.com/m/slumdog_millionaire\">Slumdog Millionaire</a> <span class=\"subtle start-year\">(2008)</span> <span class=\"icon tiny certified\" title=\"Certified Fresh\"></span> <span class=\"tMeterScore\">91%</span></h2>,\n",
       " <h2><a href=\"https://www.rottentomatoes.com/m/1048445-snow_white_and_the_seven_dwarfs\">Snow White and the Seven Dwarfs</a> <span class=\"subtle start-year\">(1937)</span> <span class=\"icon tiny certified\" title=\"Certified Fresh\"></span> <span class=\"tMeterScore\">98%</span></h2>,\n",
       " <h2><a href=\"https://www.rottentomatoes.com/m/solaris_1976\">Solaris</a> <span class=\"subtle start-year\">(1972)</span> <span class=\"icon tiny certified\" title=\"Certified Fresh\"></span> <span class=\"tMeterScore\">92%</span></h2>,\n",
       " <h2><a href=\"https://www.rottentomatoes.com/m/some_like_it_hot\">Some Like It Hot</a> <span class=\"subtle start-year\">(1959)</span> <span class=\"icon tiny certified\" title=\"Certified Fresh\"></span> <span class=\"tMeterScore\">94%</span></h2>,\n",
       " <h2><a href=\"https://www.rottentomatoes.com/m/sound_of_music\">The Sound of Music</a> <span class=\"subtle start-year\">(1965)</span> <span class=\"icon tiny certified\" title=\"Certified Fresh\"></span> <span class=\"tMeterScore\">83%</span></h2>,\n",
       " <h2><a href=\"https://www.rottentomatoes.com/m/spider_man_into_the_spider_verse\">Spider-Man: Into the Spider-Verse</a> <span class=\"subtle start-year\">(2018)</span> <span class=\"icon tiny certified\" title=\"Certified Fresh\"></span> <span class=\"tMeterScore\">97%</span></h2>,\n",
       " <h2><a href=\"https://www.rottentomatoes.com/m/spirited_away\">Spirited Away</a> <span class=\"subtle start-year\">(2001)</span> <span class=\"icon tiny certified\" title=\"Certified Fresh\"></span> <span class=\"tMeterScore\">97%</span></h2>,\n",
       " <h2><a href=\"https://www.rottentomatoes.com/m/star_wars\">Star Wars</a> <span class=\"subtle start-year\">(1977)</span> <span class=\"icon tiny certified\" title=\"Certified Fresh\"></span> <span class=\"tMeterScore\">92%</span></h2>,\n",
       " <h2><a href=\"https://www.rottentomatoes.com/m/empire_strikes_back\">The Empire Strikes Back</a> <span class=\"subtle start-year\">(1980)</span> <span class=\"icon tiny certified\" title=\"Certified Fresh\"></span> <span class=\"tMeterScore\">94%</span></h2>,\n",
       " <h2><a href=\"https://www.rottentomatoes.com/m/straight_outta_compton\">Straight Outta Compton</a> <span class=\"subtle start-year\">(2015)</span> <span class=\"icon tiny certified\" title=\"Certified Fresh\"></span> <span class=\"tMeterScore\">89%</span></h2>,\n",
       " <h2><a href=\"https://www.rottentomatoes.com/m/sunset_boulevard\">Sunset Blvd.</a> <span class=\"subtle start-year\">(1950)</span> <span class=\"icon tiny certified\" title=\"Certified Fresh\"></span> <span class=\"tMeterScore\">99%</span></h2>,\n",
       " <h2><a href=\"https://www.rottentomatoes.com/m/superbad\">Superbad</a> <span class=\"subtle start-year\">(2007)</span> <span class=\"icon tiny certified\" title=\"Certified Fresh\"></span> <span class=\"tMeterScore\">88%</span></h2>,\n",
       " <h2><a href=\"https://www.rottentomatoes.com/m/superman_the_movie\">Superman: The Movie</a> <span class=\"subtle start-year\">(1978)</span> <span class=\"icon tiny certified\" title=\"Certified Fresh\"></span> <span class=\"tMeterScore\">94%</span></h2>,\n",
       " <h2><a href=\"https://www.rottentomatoes.com/m/1020662-suspiria\">Suspiria</a> <span class=\"subtle start-year\">(1977)</span> <span class=\"icon tiny certified\" title=\"Certified Fresh\"></span> <span class=\"tMeterScore\">93%</span></h2>,\n",
       " <h2><a href=\"https://www.rottentomatoes.com/m/the_tale_of_the_princess_kaguya\">The Tale of the Princess Kaguya</a> <span class=\"subtle start-year\">(2013)</span> <span class=\"icon tiny certified\" title=\"Certified Fresh\"></span> <span class=\"tMeterScore\">100%</span></h2>,\n",
       " <h2><a href=\"https://www.rottentomatoes.com/m/tangerine_2015\">Tangerine</a> <span class=\"subtle start-year\">(2015)</span> <span class=\"icon tiny certified\" title=\"Certified Fresh\"></span> <span class=\"tMeterScore\">96%</span></h2>,\n",
       " <h2><a href=\"https://www.rottentomatoes.com/m/taxi_driver\">Taxi Driver</a> <span class=\"subtle start-year\">(1976)</span> <span class=\"icon tiny certified\" title=\"Certified Fresh\"></span> <span class=\"tMeterScore\">96%</span></h2>,\n",
       " <h2><a href=\"https://www.rottentomatoes.com/m/terminator\">The Terminator</a> <span class=\"subtle start-year\">(1984)</span> <span class=\"icon tiny certified\" title=\"Certified Fresh\"></span> <span class=\"tMeterScore\">100%</span></h2>,\n",
       " <h2><a href=\"https://www.rottentomatoes.com/m/terminator_2_judgment_day\">Terminator 2: Judgment Day</a> <span class=\"subtle start-year\">(1991)</span> <span class=\"icon tiny certified\" title=\"Certified Fresh\"></span> <span class=\"tMeterScore\">93%</span></h2>,\n",
       " <h2><a href=\"https://www.rottentomatoes.com/m/thelma_and_louise\">Thelma &amp; Louise</a> <span class=\"subtle start-year\">(1991)</span> <span class=\"icon tiny certified\" title=\"Certified Fresh\"></span> <span class=\"tMeterScore\">85%</span></h2>,\n",
       " <h2><a href=\"https://www.rottentomatoes.com/m/there_will_be_blood\">There Will Be Blood</a> <span class=\"subtle start-year\">(2007)</span> <span class=\"icon tiny certified\" title=\"Certified Fresh\"></span> <span class=\"tMeterScore\">91%</span></h2>,\n",
       " <h2><a href=\"https://www.rottentomatoes.com/m/1021244-thing\">The Thing</a> <span class=\"subtle start-year\">(1982)</span> <span class=\"icon tiny certified\" title=\"Certified Fresh\"></span> <span class=\"tMeterScore\">86%</span></h2>,\n",
       " <h2><a href=\"https://www.rottentomatoes.com/m/the_third_man\">The Third Man</a> <span class=\"subtle start-year\">(1949)</span> <span class=\"icon tiny certified\" title=\"Certified Fresh\"></span> <span class=\"tMeterScore\">99%</span></h2>,\n",
       " <h2><a href=\"https://www.rottentomatoes.com/m/this_is_spinal_tap\">This Is Spinal Tap</a> <span class=\"subtle start-year\">(1984)</span> <span class=\"icon tiny certified\" title=\"Certified Fresh\"></span> <span class=\"tMeterScore\">95%</span></h2>,\n",
       " <h2><a href=\"https://www.rottentomatoes.com/m/titanic\">Titanic</a> <span class=\"subtle start-year\">(1997)</span> <span class=\"icon tiny certified\" title=\"Certified Fresh\"></span> <span class=\"tMeterScore\">89%</span></h2>,\n",
       " <h2><a href=\"https://www.rottentomatoes.com/m/to_be_or_not_to_be\">To Be or Not to Be</a> <span class=\"subtle start-year\">(1942)</span> <span class=\"icon tiny certified\" title=\"Certified Fresh\"></span> <span class=\"tMeterScore\">96%</span></h2>,\n",
       " <h2><a href=\"https://www.rottentomatoes.com/m/to_kill_a_mockingbird\">To Kill a Mockingbird</a> <span class=\"subtle start-year\">(1962)</span> <span class=\"icon tiny certified\" title=\"Certified Fresh\"></span> <span class=\"tMeterScore\">92%</span></h2>,\n",
       " <h2><a href=\"https://www.rottentomatoes.com/m/tokyo_story\">Tokyo Story</a> <span class=\"subtle start-year\">(1953)</span> <span class=\"icon tiny certified\" title=\"Certified Fresh\"></span> <span class=\"tMeterScore\">100%</span></h2>,\n",
       " <h2><a href=\"https://www.rottentomatoes.com/m/tootsie\">Tootsie</a> <span class=\"subtle start-year\">(1982)</span> <span class=\"icon tiny certified\" title=\"Certified Fresh\"></span> <span class=\"tMeterScore\">90%</span></h2>,\n",
       " <h2><a href=\"https://www.rottentomatoes.com/m/total_recall\">Total Recall</a> <span class=\"subtle start-year\">(1990)</span> <span class=\"icon tiny certified\" title=\"Certified Fresh\"></span> <span class=\"tMeterScore\">82%</span></h2>,\n",
       " <h2><a href=\"https://www.rottentomatoes.com/m/toy_story\">Toy Story</a> <span class=\"subtle start-year\">(1995)</span> <span class=\"icon tiny certified\" title=\"Certified Fresh\"></span> <span class=\"tMeterScore\">100%</span></h2>,\n",
       " <h2><a href=\"https://www.rottentomatoes.com/m/trainspotting\">Trainspotting</a> <span class=\"subtle start-year\">(1996)</span> <span class=\"icon tiny certified\" title=\"Certified Fresh\"></span> <span class=\"tMeterScore\">91%</span></h2>,\n",
       " <h2><a href=\"https://www.rottentomatoes.com/m/treasure_of_the_sierra_madre\">The Treasure of the Sierra Madre</a> <span class=\"subtle start-year\">(1948)</span> <span class=\"icon tiny certified\" title=\"Certified Fresh\"></span> <span class=\"tMeterScore\">100%</span></h2>,\n",
       " <h2><a href=\"https://www.rottentomatoes.com/m/the_umbrellas_of_cherbourg_1964\">The Umbrellas of Cherbourg</a> <span class=\"subtle start-year\">(1964)</span> <span class=\"icon tiny certified\" title=\"Certified Fresh\"></span> <span class=\"tMeterScore\">99%</span></h2>,\n",
       " <h2><a href=\"https://www.rottentomatoes.com/m/uncut_gems\">Uncut Gems</a> <span class=\"subtle start-year\">(2019)</span> <span class=\"icon tiny certified\" title=\"Certified Fresh\"></span> <span class=\"tMeterScore\">91%</span></h2>,\n",
       " <h2><a href=\"https://www.rottentomatoes.com/m/1041911-unforgiven\">Unforgiven</a> <span class=\"subtle start-year\">(1992)</span> <span class=\"icon tiny certified\" title=\"Certified Fresh\"></span> <span class=\"tMeterScore\">96%</span></h2>,\n",
       " <h2><a href=\"https://www.rottentomatoes.com/m/vertigo\">Vertigo</a> <span class=\"subtle start-year\">(1958)</span> <span class=\"icon tiny certified\" title=\"Certified Fresh\"></span> <span class=\"tMeterScore\">94%</span></h2>,\n",
       " <h2><a href=\"https://www.rottentomatoes.com/m/volver\">Volver</a> <span class=\"subtle start-year\">(2006)</span> <span class=\"icon tiny certified\" title=\"Certified Fresh\"></span> <span class=\"tMeterScore\">91%</span></h2>,\n",
       " <h2><a href=\"https://www.rottentomatoes.com/m/wendy_and_lucy\">Wendy and Lucy</a> <span class=\"subtle start-year\">(2008)</span> <span class=\"icon tiny certified\" title=\"Certified Fresh\"></span> <span class=\"tMeterScore\">85%</span></h2>,\n",
       " <h2><a href=\"https://www.rottentomatoes.com/m/west_side_story\">West Side Story</a> <span class=\"subtle start-year\">(1961)</span> <span class=\"icon tiny certified\" title=\"Certified Fresh\"></span> <span class=\"tMeterScore\">91%</span></h2>,\n",
       " <h2><a href=\"https://www.rottentomatoes.com/m/whats_love_got_to_do_with_it\">What's Love Got to Do With It</a> <span class=\"subtle start-year\">(1993)</span> <span class=\"icon tiny certified\" title=\"Certified Fresh\"></span> <span class=\"tMeterScore\">97%</span></h2>,\n",
       " <h2><a href=\"https://www.rottentomatoes.com/m/1059489-wild_bunch\">The Wild Bunch</a> <span class=\"subtle start-year\">(1969)</span> <span class=\"icon tiny certified\" title=\"Certified Fresh\"></span> <span class=\"tMeterScore\">90%</span></h2>,\n",
       " <h2><a href=\"https://www.rottentomatoes.com/m/wild_strawberries\">Wild Strawberries</a> <span class=\"subtle start-year\">(1957)</span> <span class=\"icon tiny certified\" title=\"Certified Fresh\"></span> <span class=\"tMeterScore\">96%</span></h2>,\n",
       " <h2><a href=\"https://www.rottentomatoes.com/m/the_wizard_of_oz_1939\">The Wizard of Oz</a> <span class=\"subtle start-year\">(1939)</span> <span class=\"icon tiny certified\" title=\"Certified Fresh\"></span> <span class=\"tMeterScore\">99%</span></h2>,\n",
       " <h2><a href=\"https://www.rottentomatoes.com/m/wonder_woman_2017\">Wonder Woman</a> <span class=\"subtle start-year\">(2017)</span> <span class=\"icon tiny certified\" title=\"Certified Fresh\"></span> <span class=\"tMeterScore\">93%</span></h2>,\n",
       " <h2><a href=\"https://www.rottentomatoes.com/m/y_tu_mama_tambien\">And Your Mother Too</a> <span class=\"subtle start-year\">(2001)</span> <span class=\"icon tiny certified\" title=\"Certified Fresh\"></span> <span class=\"tMeterScore\">92%</span></h2>,\n",
       " <h2><a href=\"https://www.rottentomatoes.com/m/your_sisters_sister\">Your Sister's Sister</a> <span class=\"subtle start-year\">(2011)</span> <span class=\"icon tiny certified\" title=\"Certified Fresh\"></span> <span class=\"tMeterScore\">83%</span></h2>,\n",
       " <h2><a href=\"https://www.rottentomatoes.com/m/zero_dark_thirty\">Zero Dark Thirty</a> <span class=\"subtle start-year\">(2012)</span> <span class=\"icon tiny certified\" title=\"Certified Fresh\"></span> <span class=\"tMeterScore\">91%</span></h2>]"
      ]
     },
     "execution_count": 7,
     "metadata": {},
     "output_type": "execute_result"
    }
   ],
   "source": [
    "headings"
   ]
  },
  {
   "cell_type": "code",
   "execution_count": 13,
   "metadata": {},
   "outputs": [
    {
     "data": {
      "text/plain": [
       "<a class=\"article_movie_poster\" href=\"https://www.rottentomatoes.com/m/jurassic_park\">\n",
       "<div><img alt=\"\" class=\"article_poster\" sborder=\"\" src=\"https://resizing.flixster.com/F9AP8c3VxzVvhDMu3A4R2ULMu7Y=/fit-in/180x240/v2/https://flxt.tmsimg.com/NowShowing/43768/43768_aa.jpg\" style=\"border-color: #EEEEEE; border-style: solid; border-width: 1px;\"/></div>\n",
       "</a>"
      ]
     },
     "execution_count": 13,
     "metadata": {},
     "output_type": "execute_result"
    }
   ],
   "source": [
    "h=soup.find_all(\"div\",class_=\"row countdown-item\")\n",
    "h[0].find(\"a\")"
   ]
  },
  {
   "cell_type": "code",
   "execution_count": 73,
   "metadata": {},
   "outputs": [
    {
     "data": {
      "text/plain": [
       "<a href=\"https://www.rottentomatoes.com/m/jurassic_park/\">Jurassic Park</a>"
      ]
     },
     "execution_count": 73,
     "metadata": {},
     "output_type": "execute_result"
    }
   ],
   "source": [
    "headings[0].find(\"a\")"
   ]
  },
  {
   "cell_type": "code",
   "execution_count": 74,
   "metadata": {},
   "outputs": [
    {
     "data": {
      "text/plain": [
       "'Jurassic Park'"
      ]
     },
     "execution_count": 74,
     "metadata": {},
     "output_type": "execute_result"
    }
   ],
   "source": [
    "headings[0].find(\"a\").text"
   ]
  },
  {
   "cell_type": "code",
   "execution_count": 75,
   "metadata": {},
   "outputs": [
    {
     "data": {
      "text/plain": [
       "'https://www.rottentomatoes.com/m/jurassic_park/'"
      ]
     },
     "execution_count": 75,
     "metadata": {},
     "output_type": "execute_result"
    }
   ],
   "source": [
    "headings[0].find(\"a\").get(\"href\")"
   ]
  },
  {
   "cell_type": "code",
   "execution_count": 76,
   "metadata": {},
   "outputs": [
    {
     "data": {
      "text/plain": [
       "'https://www.rottentomatoes.com/m/jurassic_park/'"
      ]
     },
     "execution_count": 76,
     "metadata": {},
     "output_type": "execute_result"
    }
   ],
   "source": [
    "headings[0].find(\"a\")[\"href\"]"
   ]
  },
  {
   "cell_type": "code",
   "execution_count": 77,
   "metadata": {},
   "outputs": [
    {
     "data": {
      "text/plain": [
       "'(1993)'"
      ]
     },
     "execution_count": 77,
     "metadata": {},
     "output_type": "execute_result"
    }
   ],
   "source": [
    "#gap b/w the name of class means that elemet is having one or more class i.e subtle start.year 1= subtle second= start.year and u can use of it\n",
    "headings[0].find(class_=\"subtle start-year\").text"
   ]
  },
  {
   "cell_type": "code",
   "execution_count": 78,
   "metadata": {},
   "outputs": [],
   "source": [
    "movie_name=[i.find(\"a\").text for i in headings]\n",
    "    "
   ]
  },
  {
   "cell_type": "code",
   "execution_count": 79,
   "metadata": {},
   "outputs": [],
   "source": [
    "year=[i.find(\"span\",class_=\"subtle start-year\").text.strip(\"()\") for i in headings]\n"
   ]
  },
  {
   "cell_type": "code",
   "execution_count": 80,
   "metadata": {},
   "outputs": [],
   "source": [
    "rating=[i.find(\"span\",class_=\"tMeterScore\").text for i in headings]"
   ]
  },
  {
   "cell_type": "code",
   "execution_count": 81,
   "metadata": {},
   "outputs": [
    {
     "data": {
      "text/plain": [
       "['92%',\n",
       " '98%',\n",
       " '99%',\n",
       " '94%',\n",
       " '91%',\n",
       " '96%',\n",
       " '99%',\n",
       " '100%',\n",
       " '93%',\n",
       " '98%',\n",
       " '80%',\n",
       " '87%',\n",
       " '93%',\n",
       " '93%',\n",
       " '90%',\n",
       " '93%',\n",
       " '91%',\n",
       " '93%',\n",
       " '95%',\n",
       " '95%',\n",
       " '83%',\n",
       " '97%',\n",
       " '88%',\n",
       " '100%',\n",
       " '97%',\n",
       " '88%',\n",
       " '84%',\n",
       " '97%',\n",
       " '98%',\n",
       " '95%',\n",
       " '97%',\n",
       " '98%',\n",
       " '83%',\n",
       " '98%',\n",
       " '94%',\n",
       " '88%',\n",
       " '88%',\n",
       " '91%',\n",
       " '90%',\n",
       " '91%',\n",
       " '95%',\n",
       " '97%',\n",
       " '94%',\n",
       " '93%',\n",
       " '97%',\n",
       " '83%',\n",
       " '81%',\n",
       " '99%',\n",
       " '94%',\n",
       " '100%',\n",
       " '100%',\n",
       " '95%',\n",
       " '93%',\n",
       " '98%',\n",
       " '98%',\n",
       " '97%',\n",
       " '100%',\n",
       " '90%',\n",
       " '100%',\n",
       " '81%',\n",
       " '98%',\n",
       " '98%',\n",
       " '98%',\n",
       " '73%',\n",
       " '97%',\n",
       " '93%',\n",
       " '96%',\n",
       " '92%',\n",
       " '93%',\n",
       " '93%',\n",
       " '95%',\n",
       " '98%',\n",
       " '98%',\n",
       " '97%',\n",
       " '98%',\n",
       " '79%',\n",
       " '90%',\n",
       " '92%',\n",
       " '97%',\n",
       " '96%',\n",
       " '96%',\n",
       " '86%',\n",
       " '93%',\n",
       " '98%',\n",
       " '82%',\n",
       " '98%',\n",
       " '79%',\n",
       " '84%',\n",
       " '96%',\n",
       " '99%',\n",
       " '81%',\n",
       " '100%',\n",
       " '93%',\n",
       " '88%',\n",
       " '92%',\n",
       " '91%',\n",
       " '84%',\n",
       " '99%',\n",
       " '88%',\n",
       " '96%',\n",
       " '100%',\n",
       " '86%',\n",
       " '91%',\n",
       " '98%',\n",
       " '92%',\n",
       " '95%',\n",
       " '83%',\n",
       " '97%',\n",
       " '97%',\n",
       " '92%',\n",
       " '94%',\n",
       " '89%',\n",
       " '99%',\n",
       " '88%',\n",
       " '94%',\n",
       " '93%',\n",
       " '100%',\n",
       " '96%',\n",
       " '96%',\n",
       " '100%',\n",
       " '93%',\n",
       " '85%',\n",
       " '91%',\n",
       " '86%',\n",
       " '99%',\n",
       " '95%',\n",
       " '89%',\n",
       " '96%',\n",
       " '92%',\n",
       " '100%',\n",
       " '90%',\n",
       " '82%',\n",
       " '100%',\n",
       " '91%',\n",
       " '100%',\n",
       " '99%',\n",
       " '91%',\n",
       " '96%',\n",
       " '94%',\n",
       " '91%',\n",
       " '85%',\n",
       " '91%',\n",
       " '97%',\n",
       " '90%',\n",
       " '96%',\n",
       " '99%',\n",
       " '93%',\n",
       " '92%',\n",
       " '83%',\n",
       " '91%']"
      ]
     },
     "execution_count": 81,
     "metadata": {},
     "output_type": "execute_result"
    }
   ],
   "source": [
    "rating"
   ]
  },
  {
   "cell_type": "code",
   "execution_count": 84,
   "metadata": {},
   "outputs": [
    {
     "data": {
      "text/plain": [
       "<div class=\"info director\">\n",
       "<span class=\"descriptor\">Directed By:</span> <a class=\"\" href=\"/celebrity/ernest_b_schoedsack/\">Ernest B. Schoedsack</a>, <a class=\"\" href=\"/celebrity/merian_c_cooper/\">Merian C. Cooper</a></div>"
      ]
     },
     "execution_count": 84,
     "metadata": {},
     "output_type": "execute_result"
    }
   ],
   "source": [
    "director=divs[1].find(\"div\",class_=\"info director\")\n",
    "director"
   ]
  },
  {
   "cell_type": "code",
   "execution_count": 86,
   "metadata": {},
   "outputs": [
    {
     "data": {
      "text/plain": [
       "[<a class=\"\" href=\"/celebrity/ernest_b_schoedsack/\">Ernest B. Schoedsack</a>,\n",
       " <a class=\"\" href=\"/celebrity/merian_c_cooper/\">Merian C. Cooper</a>]"
      ]
     },
     "execution_count": 86,
     "metadata": {},
     "output_type": "execute_result"
    }
   ],
   "source": [
    "director_link=director.find_all(\"a\")\n",
    "director_link"
   ]
  },
  {
   "cell_type": "code",
   "execution_count": 87,
   "metadata": {},
   "outputs": [],
   "source": [
    "name=[i.text for i in director_link]"
   ]
  },
  {
   "cell_type": "code",
   "execution_count": 88,
   "metadata": {},
   "outputs": [
    {
     "data": {
      "text/plain": [
       "['Ernest B. Schoedsack', 'Merian C. Cooper']"
      ]
     },
     "execution_count": 88,
     "metadata": {},
     "output_type": "execute_result"
    }
   ],
   "source": [
    "name"
   ]
  },
  {
   "cell_type": "code",
   "execution_count": 89,
   "metadata": {},
   "outputs": [
    {
     "data": {
      "text/plain": [
       "'Ernest B. Schoedsack,Merian C. Cooper'"
      ]
     },
     "execution_count": 89,
     "metadata": {},
     "output_type": "execute_result"
    }
   ],
   "source": [
    "\",\".join(name)"
   ]
  },
  {
   "cell_type": "code",
   "execution_count": 94,
   "metadata": {},
   "outputs": [],
   "source": [
    "dire=[]\n",
    "for i in range(len(divs)):\n",
    "    director=divs[i].find(\"div\",class_=\"info director\")\n",
    "    director_link=director.find_all(\"a\")\n",
    "    name=[i.text for i in director_link]\n",
    "    dire.append(\",\".join(name))"
   ]
  },
  {
   "cell_type": "code",
   "execution_count": 95,
   "metadata": {},
   "outputs": [
    {
     "data": {
      "text/plain": [
       "['Steven Spielberg',\n",
       " 'Ernest B. Schoedsack,Merian C. Cooper',\n",
       " 'Curtis Hanson',\n",
       " 'Michelangelo Antonioni',\n",
       " 'Luis Valdez',\n",
       " 'Federico Fellini',\n",
       " 'Greta Gerwig',\n",
       " 'Preston Sturges',\n",
       " 'David Lean',\n",
       " 'Tomas Alfredson',\n",
       " 'Richard Donner',\n",
       " 'Alfonso Arau',\n",
       " 'Roger Allers,Rob Minkoff',\n",
       " 'John Musker,Ron Clements',\n",
       " 'Frank Oz',\n",
       " 'James Mangold',\n",
       " 'Peter Jackson',\n",
       " 'Peter Jackson',\n",
       " 'Peter Jackson',\n",
       " 'Sofia Coppola',\n",
       " 'Gina Prince-Bythewood',\n",
       " 'George Miller',\n",
       " 'Spike Lee',\n",
       " 'John Huston',\n",
       " 'John Frankenheimer',\n",
       " 'Lilly Wachowski,Lana Wachowski',\n",
       " 'Mark Waters (VIII)',\n",
       " 'Fritz Lang',\n",
       " 'Charles Chaplin',\n",
       " 'Mira Nair',\n",
       " 'Terry Gilliam,Terry Jones',\n",
       " 'Barry Jenkins (III) ',\n",
       " 'David Lynch',\n",
       " 'Jim Sheridan',\n",
       " 'Hayao Miyazaki',\n",
       " 'Mike Leigh',\n",
       " 'David Zucker',\n",
       " 'Robert Altman',\n",
       " 'John Landis',\n",
       " 'Sidney Lumet',\n",
       " 'Charles Laughton',\n",
       " 'George A. Romero',\n",
       " 'Wes Craven',\n",
       " 'Joel Coen,Ethan Coen',\n",
       " 'Alfred Hitchcock',\n",
       " 'Roger Michell',\n",
       " 'Park Chan-wook',\n",
       " 'Elia Kazan',\n",
       " 'Milos Forman',\n",
       " 'Isao Takahata',\n",
       " 'Roberto Rossellini',\n",
       " 'Guillermo del Toro',\n",
       " 'Georg Wilhelm Pabst',\n",
       " 'Bong Joon Ho',\n",
       " 'Carl Theodor Dreyer',\n",
       " 'Satyajit Ray',\n",
       " 'George Cukor',\n",
       " 'Jane Campion',\n",
       " 'Hamilton Luske,Ben Sharpsteen,Norman Ferguson,Bill Roberts',\n",
       " 'Jason Moore',\n",
       " 'Robert Altman',\n",
       " 'Jacques Tati',\n",
       " 'Céline Sciamma',\n",
       " 'Howard Deutch',\n",
       " 'Rob Reiner',\n",
       " 'Hayao Miyazaki',\n",
       " 'Alfred Hitchcock',\n",
       " 'Quentin Tarantino',\n",
       " 'Wanuri Kahiu',\n",
       " 'Martin Scorsese',\n",
       " 'Steven Spielberg',\n",
       " 'Akira Kurosawa',\n",
       " 'Alfred Hitchcock',\n",
       " 'Michael Powell,Emeric Pressburger',\n",
       " 'Alex Cox',\n",
       " 'Darren Aronofsky',\n",
       " 'Paul Verhoeven',\n",
       " 'John G. Avildsen',\n",
       " 'William Wyler',\n",
       " 'Roman Polanski',\n",
       " 'Jean Renoir',\n",
       " 'Alice Wu',\n",
       " 'Steven Spielberg',\n",
       " 'Cameron Crowe',\n",
       " 'Brian DePalma',\n",
       " 'Steven Spielberg',\n",
       " 'Wes Craven',\n",
       " 'Alejandro Amenábar',\n",
       " 'John Ford',\n",
       " 'Ava DuVernay',\n",
       " 'David Fincher',\n",
       " 'Akira Kurosawa',\n",
       " 'Ingmar Bergman',\n",
       " 'Gordon Parks',\n",
       " 'Edgar Wright',\n",
       " 'Frank Darabont',\n",
       " 'Stanley Kubrick',\n",
       " 'Hirokazu Koreeda',\n",
       " 'Vicky Jenson,Andrew Adamson',\n",
       " 'Jonathan Demme',\n",
       " 'Stanley Donen,Gene Kelly',\n",
       " 'M. Night Shyamalan',\n",
       " 'Danny Boyle',\n",
       " 'David Hand,William Cottrell,David D. Hand,Wilfred Jackson',\n",
       " 'Andrei Tarkovsky',\n",
       " 'John Huston,Billy Wilder',\n",
       " 'Robert Wise',\n",
       " 'Bob Persichetti,Peter Ramsey,Rodney Rothman',\n",
       " 'Hayao Miyazaki',\n",
       " 'George Lucas',\n",
       " 'Irvin Kershner',\n",
       " 'F. Gary Gray',\n",
       " 'Billy Wilder',\n",
       " 'Greg Mottola',\n",
       " 'Richard Donner',\n",
       " 'Dario Argento',\n",
       " 'Isao Takahata',\n",
       " 'Sean Baker (II) ',\n",
       " 'Martin Scorsese',\n",
       " 'James Cameron',\n",
       " 'James Cameron',\n",
       " 'Ridley Scott',\n",
       " 'Paul Thomas Anderson',\n",
       " 'John Carpenter',\n",
       " 'Carol Reed',\n",
       " 'Rob Reiner',\n",
       " 'James Cameron',\n",
       " 'Ernst Lubitsch',\n",
       " 'Robert Mulligan',\n",
       " 'Yasujiro Ozu',\n",
       " 'Sydney Pollack',\n",
       " 'Paul Verhoeven',\n",
       " 'John Lasseter',\n",
       " 'Danny Boyle',\n",
       " 'John Huston',\n",
       " 'Jacques Demy',\n",
       " 'Josh Safdie,Benny Safdie',\n",
       " 'Clint Eastwood',\n",
       " 'Alfred Hitchcock',\n",
       " 'Pedro Almodóvar',\n",
       " 'Kelly Reichardt',\n",
       " 'Robert Wise,Jerome Robbins',\n",
       " 'Brian Gibson',\n",
       " 'Sam Peckinpah',\n",
       " 'Ingmar Bergman',\n",
       " 'King Vidor,Victor Fleming',\n",
       " 'Patty Jenkins',\n",
       " 'Alfonso Cuarón',\n",
       " 'Lynn Shelton',\n",
       " 'Kathryn Bigelow']"
      ]
     },
     "execution_count": 95,
     "metadata": {},
     "output_type": "execute_result"
    }
   ],
   "source": [
    "dire"
   ]
  },
  {
   "cell_type": "code",
   "execution_count": 97,
   "metadata": {
    "collapsed": true
   },
   "outputs": [
    {
     "ename": "AttributeError",
     "evalue": "'NavigableString' object has no attribute 'find_all'",
     "output_type": "error",
     "traceback": [
      "\u001b[1;31m---------------------------------------------------------------------------\u001b[0m",
      "\u001b[1;31mAttributeError\u001b[0m                            Traceback (most recent call last)",
      "\u001b[1;32m<ipython-input-97-00fa5ec8e838>\u001b[0m in \u001b[0;36m<module>\u001b[1;34m\u001b[0m\n\u001b[0;32m      1\u001b[0m \u001b[0mdirector_Div\u001b[0m\u001b[1;33m=\u001b[0m \u001b[1;33m[\u001b[0m\u001b[0mi\u001b[0m\u001b[1;33m.\u001b[0m\u001b[0mfind\u001b[0m\u001b[1;33m(\u001b[0m\u001b[1;34m\"div\"\u001b[0m\u001b[1;33m,\u001b[0m\u001b[0mclass_\u001b[0m\u001b[1;33m=\u001b[0m\u001b[1;34m\"info director\"\u001b[0m\u001b[1;33m)\u001b[0m\u001b[1;32mfor\u001b[0m \u001b[0mi\u001b[0m \u001b[1;32min\u001b[0m \u001b[0mdivs\u001b[0m\u001b[1;33m]\u001b[0m\u001b[1;33m\u001b[0m\u001b[1;33m\u001b[0m\u001b[0m\n\u001b[1;32m----> 2\u001b[1;33m \u001b[1;33m[\u001b[0m\u001b[1;34m\",\"\u001b[0m\u001b[1;33m.\u001b[0m\u001b[0mjoin\u001b[0m\u001b[1;33m(\u001b[0m\u001b[1;33m[\u001b[0m\u001b[0mlink\u001b[0m\u001b[1;33m.\u001b[0m\u001b[0mtext\u001b[0m \u001b[1;32mfor\u001b[0m \u001b[0mlink\u001b[0m \u001b[1;32min\u001b[0m \u001b[0mi\u001b[0m\u001b[1;33m.\u001b[0m\u001b[0mfind_all\u001b[0m\u001b[1;33m(\u001b[0m\u001b[1;34m\"a\"\u001b[0m\u001b[1;33m)\u001b[0m\u001b[1;33m]\u001b[0m\u001b[1;33m)\u001b[0m \u001b[1;32mfor\u001b[0m \u001b[0mi\u001b[0m \u001b[1;32min\u001b[0m \u001b[0mdirector\u001b[0m\u001b[1;33m]\u001b[0m\u001b[1;33m\u001b[0m\u001b[1;33m\u001b[0m\u001b[0m\n\u001b[0m",
      "\u001b[1;32m<ipython-input-97-00fa5ec8e838>\u001b[0m in \u001b[0;36m<listcomp>\u001b[1;34m(.0)\u001b[0m\n\u001b[0;32m      1\u001b[0m \u001b[0mdirector_Div\u001b[0m\u001b[1;33m=\u001b[0m \u001b[1;33m[\u001b[0m\u001b[0mi\u001b[0m\u001b[1;33m.\u001b[0m\u001b[0mfind\u001b[0m\u001b[1;33m(\u001b[0m\u001b[1;34m\"div\"\u001b[0m\u001b[1;33m,\u001b[0m\u001b[0mclass_\u001b[0m\u001b[1;33m=\u001b[0m\u001b[1;34m\"info director\"\u001b[0m\u001b[1;33m)\u001b[0m\u001b[1;32mfor\u001b[0m \u001b[0mi\u001b[0m \u001b[1;32min\u001b[0m \u001b[0mdivs\u001b[0m\u001b[1;33m]\u001b[0m\u001b[1;33m\u001b[0m\u001b[1;33m\u001b[0m\u001b[0m\n\u001b[1;32m----> 2\u001b[1;33m \u001b[1;33m[\u001b[0m\u001b[1;34m\",\"\u001b[0m\u001b[1;33m.\u001b[0m\u001b[0mjoin\u001b[0m\u001b[1;33m(\u001b[0m\u001b[1;33m[\u001b[0m\u001b[0mlink\u001b[0m\u001b[1;33m.\u001b[0m\u001b[0mtext\u001b[0m \u001b[1;32mfor\u001b[0m \u001b[0mlink\u001b[0m \u001b[1;32min\u001b[0m \u001b[0mi\u001b[0m\u001b[1;33m.\u001b[0m\u001b[0mfind_all\u001b[0m\u001b[1;33m(\u001b[0m\u001b[1;34m\"a\"\u001b[0m\u001b[1;33m)\u001b[0m\u001b[1;33m]\u001b[0m\u001b[1;33m)\u001b[0m \u001b[1;32mfor\u001b[0m \u001b[0mi\u001b[0m \u001b[1;32min\u001b[0m \u001b[0mdirector\u001b[0m\u001b[1;33m]\u001b[0m\u001b[1;33m\u001b[0m\u001b[1;33m\u001b[0m\u001b[0m\n\u001b[0m",
      "\u001b[1;32m~\\anaconda3\\lib\\site-packages\\bs4\\element.py\u001b[0m in \u001b[0;36m__getattr__\u001b[1;34m(self, attr)\u001b[0m\n\u001b[0;32m    914\u001b[0m             \u001b[1;32mreturn\u001b[0m \u001b[0mself\u001b[0m\u001b[1;33m\u001b[0m\u001b[1;33m\u001b[0m\u001b[0m\n\u001b[0;32m    915\u001b[0m         \u001b[1;32melse\u001b[0m\u001b[1;33m:\u001b[0m\u001b[1;33m\u001b[0m\u001b[1;33m\u001b[0m\u001b[0m\n\u001b[1;32m--> 916\u001b[1;33m             raise AttributeError(\n\u001b[0m\u001b[0;32m    917\u001b[0m                 \"'%s' object has no attribute '%s'\" % (\n\u001b[0;32m    918\u001b[0m                     self.__class__.__name__, attr))\n",
      "\u001b[1;31mAttributeError\u001b[0m: 'NavigableString' object has no attribute 'find_all'"
     ]
    }
   ],
   "source": [
    "director_Div= [i.find(\"div\",class_=\"info director\")for i in divs]\n",
    "[\",\".join([link.text for link in i.find_all(\"a\")]) for i in director]"
   ]
  },
  {
   "cell_type": "code",
   "execution_count": 99,
   "metadata": {},
   "outputs": [],
   "source": [
    "import pandas as pd "
   ]
  },
  {
   "cell_type": "code",
   "execution_count": 101,
   "metadata": {},
   "outputs": [],
   "source": [
    "df= pd.DataFrame()\n",
    "df[\"movie_name\"]=movie_name"
   ]
  },
  {
   "cell_type": "code",
   "execution_count": 102,
   "metadata": {},
   "outputs": [
    {
     "data": {
      "text/html": [
       "<div>\n",
       "<style scoped>\n",
       "    .dataframe tbody tr th:only-of-type {\n",
       "        vertical-align: middle;\n",
       "    }\n",
       "\n",
       "    .dataframe tbody tr th {\n",
       "        vertical-align: top;\n",
       "    }\n",
       "\n",
       "    .dataframe thead th {\n",
       "        text-align: right;\n",
       "    }\n",
       "</style>\n",
       "<table border=\"1\" class=\"dataframe\">\n",
       "  <thead>\n",
       "    <tr style=\"text-align: right;\">\n",
       "      <th></th>\n",
       "      <th>movie_name</th>\n",
       "    </tr>\n",
       "  </thead>\n",
       "  <tbody>\n",
       "    <tr>\n",
       "      <th>0</th>\n",
       "      <td>Jurassic Park</td>\n",
       "    </tr>\n",
       "    <tr>\n",
       "      <th>1</th>\n",
       "      <td>King Kong</td>\n",
       "    </tr>\n",
       "    <tr>\n",
       "      <th>2</th>\n",
       "      <td>L.A. Confidential</td>\n",
       "    </tr>\n",
       "    <tr>\n",
       "      <th>3</th>\n",
       "      <td>L'Avventura</td>\n",
       "    </tr>\n",
       "    <tr>\n",
       "      <th>4</th>\n",
       "      <td>La Bamba</td>\n",
       "    </tr>\n",
       "    <tr>\n",
       "      <th>...</th>\n",
       "      <td>...</td>\n",
       "    </tr>\n",
       "    <tr>\n",
       "      <th>145</th>\n",
       "      <td>The Wizard of Oz</td>\n",
       "    </tr>\n",
       "    <tr>\n",
       "      <th>146</th>\n",
       "      <td>Wonder Woman</td>\n",
       "    </tr>\n",
       "    <tr>\n",
       "      <th>147</th>\n",
       "      <td>Y Tu Mama Tambien</td>\n",
       "    </tr>\n",
       "    <tr>\n",
       "      <th>148</th>\n",
       "      <td>Your Sister's Sister</td>\n",
       "    </tr>\n",
       "    <tr>\n",
       "      <th>149</th>\n",
       "      <td>Zero Dark Thirty</td>\n",
       "    </tr>\n",
       "  </tbody>\n",
       "</table>\n",
       "<p>150 rows × 1 columns</p>\n",
       "</div>"
      ],
      "text/plain": [
       "               movie_name\n",
       "0           Jurassic Park\n",
       "1               King Kong\n",
       "2       L.A. Confidential\n",
       "3             L'Avventura\n",
       "4                La Bamba\n",
       "..                    ...\n",
       "145      The Wizard of Oz\n",
       "146          Wonder Woman\n",
       "147     Y Tu Mama Tambien\n",
       "148  Your Sister's Sister\n",
       "149      Zero Dark Thirty\n",
       "\n",
       "[150 rows x 1 columns]"
      ]
     },
     "execution_count": 102,
     "metadata": {},
     "output_type": "execute_result"
    }
   ],
   "source": [
    "df"
   ]
  },
  {
   "cell_type": "code",
   "execution_count": null,
   "metadata": {},
   "outputs": [],
   "source": []
  }
 ],
 "metadata": {
  "kernelspec": {
   "display_name": "Python 3 (ipykernel)",
   "language": "python",
   "name": "python3"
  },
  "language_info": {
   "codemirror_mode": {
    "name": "ipython",
    "version": 3
   },
   "file_extension": ".py",
   "mimetype": "text/x-python",
   "name": "python",
   "nbconvert_exporter": "python",
   "pygments_lexer": "ipython3",
   "version": "3.9.12"
  }
 },
 "nbformat": 4,
 "nbformat_minor": 4
}
