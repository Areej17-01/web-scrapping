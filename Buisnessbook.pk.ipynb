{
 "cells": [
  {
   "cell_type": "markdown",
   "id": "af853c75",
   "metadata": {},
   "source": [
    "# Buisnessbook.pk scraping"
   ]
  },
  {
   "cell_type": "code",
   "execution_count": 3,
   "id": "aecec33d",
   "metadata": {},
   "outputs": [],
   "source": [
    "import requests\n",
    "from bs4 import BeautifulSoup"
   ]
  },
  {
   "cell_type": "code",
   "execution_count": 4,
   "id": "f20a4b96",
   "metadata": {},
   "outputs": [
    {
     "data": {
      "text/plain": [
       "<Response [200]>"
      ]
     },
     "execution_count": 4,
     "metadata": {},
     "output_type": "execute_result"
    }
   ],
   "source": [
    "base_site=\"https://www.businessbook.pk/location/karachi-75\"\n",
    "response=requests.get(base_site)\n",
    "response"
   ]
  },
  {
   "cell_type": "code",
   "execution_count": 5,
   "id": "aa16410e",
   "metadata": {},
   "outputs": [],
   "source": [
    "html=response.text"
   ]
  },
  {
   "cell_type": "code",
   "execution_count": 6,
   "id": "9d2d4d7c",
   "metadata": {},
   "outputs": [],
   "source": [
    "soup=BeautifulSoup(html,\"html.parser\")"
   ]
  },
  {
   "cell_type": "code",
   "execution_count": 7,
   "id": "8765b6d8",
   "metadata": {},
   "outputs": [
    {
     "data": {
      "text/plain": [
       "'\\n\\nKarachi Business Directory - List of Companies in Karachi - BusinessBook.pk\\n\\n\\n\\n\\n\\n\\n\\n\\n\\n\\n\\n\\n\\n\\n\\n\\n\\n\\n\\n\\n\\n\\n\\n\\n\\n'"
      ]
     },
     "execution_count": 7,
     "metadata": {},
     "output_type": "execute_result"
    }
   ],
   "source": [
    "head=soup.find(\"head\")\n",
    "head.text"
   ]
  },
  {
   "cell_type": "code",
   "execution_count": 235,
   "id": "35260782",
   "metadata": {},
   "outputs": [],
   "source": [
    "# base_site=\"https://www.businessbook.pk/location/karachi-75\"\n",
    "# body=soup.find(\"body\")\n",
    "# body"
   ]
  },
  {
   "cell_type": "code",
   "execution_count": 236,
   "id": "d37b06bf",
   "metadata": {},
   "outputs": [],
   "source": [
    "# list=[]\n",
    "# for i in body.find_all(class_=\"img-crop-center\"):\n",
    "#     list.append(i.get(\"href\"))\n"
   ]
  },
  {
   "cell_type": "code",
   "execution_count": null,
   "id": "daf7102c",
   "metadata": {},
   "outputs": [],
   "source": []
  },
  {
   "cell_type": "code",
   "execution_count": 63,
   "id": "e87a9343",
   "metadata": {},
   "outputs": [
    {
     "data": {
      "text/plain": [
       "52"
      ]
     },
     "execution_count": 63,
     "metadata": {},
     "output_type": "execute_result"
    }
   ],
   "source": [
    "len(body.find_all(class_=\"col-sm-4\"))"
   ]
  },
  {
   "cell_type": "code",
   "execution_count": 241,
   "id": "473cc546",
   "metadata": {},
   "outputs": [],
   "source": [
    "# body.find_all(class_=\"col-sm-4\")"
   ]
  },
  {
   "cell_type": "code",
   "execution_count": 66,
   "id": "605e00d3",
   "metadata": {},
   "outputs": [
    {
     "data": {
      "text/plain": [
       "59"
      ]
     },
     "execution_count": 66,
     "metadata": {},
     "output_type": "execute_result"
    }
   ],
   "source": [
    "len(body.find_all(class_=\"heading-theme-primary\"))"
   ]
  },
  {
   "cell_type": "code",
   "execution_count": 242,
   "id": "85953dc1",
   "metadata": {},
   "outputs": [
    {
     "data": {
      "text/plain": [
       "'img-crop-center'"
      ]
     },
     "execution_count": 242,
     "metadata": {},
     "output_type": "execute_result"
    }
   ],
   "source": [
    "\"col-sm-4\"\n",
    "\"heading-theme-primary\"\n",
    "\"img-crop-center\""
   ]
  },
  {
   "cell_type": "code",
   "execution_count": 67,
   "id": "66d35b42",
   "metadata": {},
   "outputs": [
    {
     "data": {
      "text/plain": [
       "50"
      ]
     },
     "execution_count": 67,
     "metadata": {},
     "output_type": "execute_result"
    }
   ],
   "source": [
    "len(list)"
   ]
  },
  {
   "cell_type": "code",
   "execution_count": 237,
   "id": "381c5464",
   "metadata": {},
   "outputs": [],
   "source": [
    "# title=[]\n",
    "# href=[]\n",
    "# for i in body.find_all(class_=\"heading-theme-primary\"):\n",
    "#     if str(i.get(\"title\")) != \"None\":\n",
    "#         title.append(str(i.get(\"title\")))\n",
    "#         href.append(i.get(\"href\"))"
   ]
  },
  {
   "cell_type": "code",
   "execution_count": 97,
   "id": "896cd763",
   "metadata": {},
   "outputs": [
    {
     "data": {
      "text/plain": [
       "50"
      ]
     },
     "execution_count": 97,
     "metadata": {},
     "output_type": "execute_result"
    }
   ],
   "source": [
    "len(title)"
   ]
  },
  {
   "cell_type": "code",
   "execution_count": 238,
   "id": "fc9e6312",
   "metadata": {},
   "outputs": [],
   "source": [
    "# title=[]\n",
    "# for i in body.find_all(class_=\"heading-theme-primary\"):\n",
    "#     if str(i.get(\"title\")) != \"None\":\n",
    "#         title.append(str(i.get(\"title\")))"
   ]
  },
  {
   "cell_type": "code",
   "execution_count": 239,
   "id": "752d79d4",
   "metadata": {},
   "outputs": [],
   "source": [
    "# phone_no=[]\n",
    "# address=[]\n",
    "# for i in body.find_all(class_=\"col-sm-4\"):\n",
    "    \n",
    "#     if \"Phone No:\" in i.text:\n",
    "#         a=(i.text.split(\"Phone No:\"))\n",
    "#         phone_no.append(a[1].strip(\"\\n\"))\n",
    "#         address.append(a[0].strip(\"\\n\"))\n",
    "    "
   ]
  },
  {
   "cell_type": "code",
   "execution_count": 122,
   "id": "a1d54226",
   "metadata": {},
   "outputs": [
    {
     "data": {
      "text/plain": [
       "50"
      ]
     },
     "execution_count": 122,
     "metadata": {},
     "output_type": "execute_result"
    }
   ],
   "source": [
    "len(phone_no)"
   ]
  },
  {
   "cell_type": "code",
   "execution_count": 240,
   "id": "1ac6b3d6",
   "metadata": {},
   "outputs": [],
   "source": [
    "#address"
   ]
  },
  {
   "cell_type": "code",
   "execution_count": 243,
   "id": "3d5cf92a",
   "metadata": {},
   "outputs": [],
   "source": [
    "# title=[]\n",
    "# href=[]\n",
    "# phone_no=[]\n",
    "# address=[]\n",
    "# for i in body.find_all(class_=\"heading-theme-primary\"):\n",
    "#     if str(i.get(\"title\")) != \"None\":\n",
    "#         title.append(str(i.get(\"title\")))\n",
    "#         href.append(i.get(\"href\"))"
   ]
  },
  {
   "cell_type": "markdown",
   "id": "e2204dd4",
   "metadata": {},
   "source": [
    "#### creating links: every page contains 40 links"
   ]
  },
  {
   "cell_type": "code",
   "execution_count": 144,
   "id": "7f90b72a",
   "metadata": {},
   "outputs": [],
   "source": [
    "string=\"https://www.businessbook.pk/location/karachi-75?per_page=\"\n",
    "link=[\"https://www.businessbook.pk/location/karachi-75\"]\n",
    "count=40\n",
    "for i in range(25):\n",
    "    link.append(string+str(count))\n",
    "    count+=40"
   ]
  },
  {
   "cell_type": "code",
   "execution_count": 146,
   "id": "af9cd95f",
   "metadata": {},
   "outputs": [
    {
     "data": {
      "text/plain": [
       "True"
      ]
     },
     "execution_count": 146,
     "metadata": {},
     "output_type": "execute_result"
    }
   ],
   "source": [
    "link[1]==\"https://www.businessbook.pk/location/karachi-75?per_page=40\""
   ]
  },
  {
   "cell_type": "code",
   "execution_count": 147,
   "id": "55117c15",
   "metadata": {},
   "outputs": [],
   "source": [
    "links=[\"https://www.businessbook.pk/location/karachi-75\",\"https://www.businessbook.pk/location/karachi-75?per_page=40\",\"https://www.businessbook.pk/location/karachi-75?per_page=80\",\"https://www.businessbook.pk/location/karachi-75?per_page=120,\",\"https://www.businessbook.pk/location/karachi-75?per_page=160\",\"https://www.businessbook.pk/location/karachi-75?per_page=200\",\"https://www.businessbook.pk/location/karachi-75?per_page=240\",\"https://www.businessbook.pk/location/karachi-75?per_page=280\",\"https://www.businessbook.pk/location/karachi-75?per_page=320\",\"https://www.businessbook.pk/location/karachi-75?per_page=360\",]\n",
    "f_title=[]\n",
    "f_href=[]\n",
    "f_phone_no=[]\n",
    "f_address=[]\n",
    "for i in link:\n",
    "    \n",
    "    base_site=i\n",
    "    response=requests.get(base_site)\n",
    "    html=response.text\n",
    "    soup=BeautifulSoup(html,\"html.parser\")\n",
    "    body=soup.find(\"body\")\n",
    "    title=[]\n",
    "    href=[]\n",
    "    phone_no=[]\n",
    "    address=[]\n",
    "    for i in body.find_all(class_=\"heading-theme-primary\"):\n",
    "        if str(i.get(\"title\")) != \"None\":\n",
    "            title.append(str(i.get(\"title\")))\n",
    "            href.append(i.get(\"href\"))\n",
    "    phone_no=[]\n",
    "    address=[]\n",
    "    for j in body.find_all(class_=\"col-sm-4\"):\n",
    "\n",
    "        if \"Phone No:\" in j.text:\n",
    "            a=(j.text.split(\"Phone No:\"))\n",
    "            phone_no.append(a[1].strip(\"\\n\"))\n",
    "            address.append(a[0].strip(\"\\n\"))\n",
    "    f_title.extend(title)\n",
    "    f_href.extend(href)\n",
    "    f_phone_no.extend(phone_no)\n",
    "    f_address.extend(address)"
   ]
  },
  {
   "cell_type": "code",
   "execution_count": 148,
   "id": "947e0de9",
   "metadata": {},
   "outputs": [
    {
     "name": "stdout",
     "output_type": "stream",
     "text": [
      "1300\n",
      "1300\n",
      "1300\n",
      "1300\n"
     ]
    }
   ],
   "source": [
    "for i in [f_title,f_href,f_phone_no,f_address]:\n",
    "    print(len(i))"
   ]
  },
  {
   "cell_type": "code",
   "execution_count": 156,
   "id": "68c22cf4",
   "metadata": {},
   "outputs": [
    {
     "data": {
      "text/plain": [
       "993"
      ]
     },
     "execution_count": 156,
     "metadata": {},
     "output_type": "execute_result"
    }
   ],
   "source": [
    "len(set(f_phone_no))"
   ]
  },
  {
   "cell_type": "code",
   "execution_count": 159,
   "id": "0a027f98",
   "metadata": {},
   "outputs": [],
   "source": [
    "import pandas as pd\n",
    "df=[]\n",
    "df=pd.DataFrame(df)"
   ]
  },
  {
   "cell_type": "code",
   "execution_count": 160,
   "id": "b9821983",
   "metadata": {},
   "outputs": [],
   "source": [
    "df[\"Title\"]=f_title\n",
    "df[\"Phone No\"]=f_phone_no\n",
    "df[\"Address\"]=f_address\n",
    "df[\"Link\"]=f_href"
   ]
  },
  {
   "cell_type": "code",
   "execution_count": 234,
   "id": "b237dda0",
   "metadata": {},
   "outputs": [],
   "source": [
    "# for i in df.columns:\n",
    "#     print(df[i].unique())"
   ]
  },
  {
   "cell_type": "markdown",
   "id": "58d9eb61",
   "metadata": {},
   "source": [
    "#### still needs cleaning of phone_no "
   ]
  },
  {
   "cell_type": "code",
   "execution_count": 246,
   "id": "8b42474e",
   "metadata": {},
   "outputs": [
    {
     "data": {
      "text/html": [
       "<div>\n",
       "<style scoped>\n",
       "    .dataframe tbody tr th:only-of-type {\n",
       "        vertical-align: middle;\n",
       "    }\n",
       "\n",
       "    .dataframe tbody tr th {\n",
       "        vertical-align: top;\n",
       "    }\n",
       "\n",
       "    .dataframe thead th {\n",
       "        text-align: right;\n",
       "    }\n",
       "</style>\n",
       "<table border=\"1\" class=\"dataframe\">\n",
       "  <thead>\n",
       "    <tr style=\"text-align: right;\">\n",
       "      <th></th>\n",
       "      <th>Title</th>\n",
       "      <th>Phone No</th>\n",
       "      <th>Address</th>\n",
       "      <th>Link</th>\n",
       "    </tr>\n",
       "  </thead>\n",
       "  <tbody>\n",
       "    <tr>\n",
       "      <th>0</th>\n",
       "      <td>Z.A Engineers &amp; Designers</td>\n",
       "      <td>0300-2434979, 02134221526</td>\n",
       "      <td>Plot No. L-863, Sector No. 2, North Karachi. K...</td>\n",
       "      <td>https://www.businessbook.pk/detail/z-a-enginee...</td>\n",
       "    </tr>\n",
       "    <tr>\n",
       "      <th>1</th>\n",
       "      <td>Serani Chemicals Waterproofing Company (Roof w...</td>\n",
       "      <td>03358478698, 03434321242\\n\\nClosed Now</td>\n",
       "      <td>Shop-3, Batha Town, Peoples Colony North Nazim...</td>\n",
       "      <td>https://www.businessbook.pk/detail/serani-chem...</td>\n",
       "    </tr>\n",
       "    <tr>\n",
       "      <th>2</th>\n",
       "      <td>Baraka Textile</td>\n",
       "      <td>021-32405810</td>\n",
       "      <td>Plot 72, sector 15, Korangi industrial area. K...</td>\n",
       "      <td>https://www.businessbook.pk/detail/baraka-text...</td>\n",
       "    </tr>\n",
       "    <tr>\n",
       "      <th>3</th>\n",
       "      <td>GOLDEN SEA ENTERPRISES</td>\n",
       "      <td>03432471824, 03432471824</td>\n",
       "      <td>Plot No.15, Room No.16, Rehman Trade Center Ti...</td>\n",
       "      <td>https://www.businessbook.pk/detail/golden-sea-...</td>\n",
       "    </tr>\n",
       "    <tr>\n",
       "      <th>4</th>\n",
       "      <td>Saleem Law Associates</td>\n",
       "      <td>0306-2300820, 0306-2300820</td>\n",
       "      <td>103, Sayed Arcade, Block 2, near Jheel Park, T...</td>\n",
       "      <td>https://www.businessbook.pk/detail/saleem-law-...</td>\n",
       "    </tr>\n",
       "  </tbody>\n",
       "</table>\n",
       "</div>"
      ],
      "text/plain": [
       "                                               Title  \\\n",
       "0                          Z.A Engineers & Designers   \n",
       "1  Serani Chemicals Waterproofing Company (Roof w...   \n",
       "2                                     Baraka Textile   \n",
       "3                             GOLDEN SEA ENTERPRISES   \n",
       "4                              Saleem Law Associates   \n",
       "\n",
       "                                  Phone No  \\\n",
       "0                0300-2434979, 02134221526   \n",
       "1   03358478698, 03434321242\\n\\nClosed Now   \n",
       "2                             021-32405810   \n",
       "3                 03432471824, 03432471824   \n",
       "4               0306-2300820, 0306-2300820   \n",
       "\n",
       "                                             Address  \\\n",
       "0  Plot No. L-863, Sector No. 2, North Karachi. K...   \n",
       "1  Shop-3, Batha Town, Peoples Colony North Nazim...   \n",
       "2  Plot 72, sector 15, Korangi industrial area. K...   \n",
       "3  Plot No.15, Room No.16, Rehman Trade Center Ti...   \n",
       "4  103, Sayed Arcade, Block 2, near Jheel Park, T...   \n",
       "\n",
       "                                                Link  \n",
       "0  https://www.businessbook.pk/detail/z-a-enginee...  \n",
       "1  https://www.businessbook.pk/detail/serani-chem...  \n",
       "2  https://www.businessbook.pk/detail/baraka-text...  \n",
       "3  https://www.businessbook.pk/detail/golden-sea-...  \n",
       "4  https://www.businessbook.pk/detail/saleem-law-...  "
      ]
     },
     "execution_count": 246,
     "metadata": {},
     "output_type": "execute_result"
    }
   ],
   "source": [
    "df.head(5)"
   ]
  },
  {
   "cell_type": "code",
   "execution_count": 186,
   "id": "b91bca50",
   "metadata": {},
   "outputs": [],
   "source": [
    "df.to_csv('business data.csv', index = False)"
   ]
  },
  {
   "cell_type": "code",
   "execution_count": null,
   "id": "38b017a5",
   "metadata": {},
   "outputs": [],
   "source": []
  }
 ],
 "metadata": {
  "kernelspec": {
   "display_name": "Python 3 (ipykernel)",
   "language": "python",
   "name": "python3"
  },
  "language_info": {
   "codemirror_mode": {
    "name": "ipython",
    "version": 3
   },
   "file_extension": ".py",
   "mimetype": "text/x-python",
   "name": "python",
   "nbconvert_exporter": "python",
   "pygments_lexer": "ipython3",
   "version": "3.9.12"
  }
 },
 "nbformat": 4,
 "nbformat_minor": 5
}
