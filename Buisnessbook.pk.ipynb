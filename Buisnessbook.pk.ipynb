{
 "cells": [
  {
   "cell_type": "markdown",
   "id": "1baa130b",
   "metadata": {},
   "source": [
    "# Buisnessbook.pk scraping"
   ]
  },
  {
   "cell_type": "code",
   "execution_count": 3,
   "id": "629f945a",
   "metadata": {},
   "outputs": [],
   "source": [
    "import requests\n",
    "from bs4 import BeautifulSoup"
   ]
  },
  {
   "cell_type": "code",
   "execution_count": 4,
   "id": "1249644c",
   "metadata": {},
   "outputs": [
    {
     "data": {
      "text/plain": [
       "<Response [200]>"
      ]
     },
     "execution_count": 4,
     "metadata": {},
     "output_type": "execute_result"
    }
   ],
   "source": [
    "base_site=\"https://www.businessbook.pk/location/karachi-75\"\n",
    "response=requests.get(base_site)\n",
    "response"
   ]
  },
  {
   "cell_type": "code",
   "execution_count": 5,
   "id": "e9386992",
   "metadata": {},
   "outputs": [],
   "source": [
    "html=response.text"
   ]
  },
  {
   "cell_type": "code",
   "execution_count": 6,
   "id": "85c9e1d0",
   "metadata": {},
   "outputs": [],
   "source": [
    "soup=BeautifulSoup(html,\"html.parser\")"
   ]
  },
  {
   "cell_type": "code",
   "execution_count": 7,
   "id": "d4e3d1a2",
   "metadata": {},
   "outputs": [
    {
     "data": {
      "text/plain": [
       "'\\n\\nKarachi Business Directory - List of Companies in Karachi - BusinessBook.pk\\n\\n\\n\\n\\n\\n\\n\\n\\n\\n\\n\\n\\n\\n\\n\\n\\n\\n\\n\\n\\n\\n\\n\\n\\n\\n'"
      ]
     },
     "execution_count": 7,
     "metadata": {},
     "output_type": "execute_result"
    }
   ],
   "source": [
    "head=soup.find(\"head\")\n",
    "head.text"
   ]
  },
  {
   "cell_type": "code",
   "execution_count": 235,
   "id": "a86ba7e4",
   "metadata": {},
   "outputs": [],
   "source": [
    "# base_site=\"https://www.businessbook.pk/location/karachi-75\"\n",
    "# body=soup.find(\"body\")\n",
    "# body"
   ]
  },
  {
   "cell_type": "code",
   "execution_count": 236,
   "id": "734f8f82",
   "metadata": {},
   "outputs": [],
   "source": [
    "# list=[]\n",
    "# for i in body.find_all(class_=\"img-crop-center\"):\n",
    "#     list.append(i.get(\"href\"))\n"
   ]
  },
  {
   "cell_type": "code",
   "execution_count": null,
   "id": "8c68811b",
   "metadata": {},
   "outputs": [],
   "source": []
  },
  {
   "cell_type": "code",
   "execution_count": 63,
   "id": "902339a7",
   "metadata": {},
   "outputs": [
    {
     "data": {
      "text/plain": [
       "52"
      ]
     },
     "execution_count": 63,
     "metadata": {},
     "output_type": "execute_result"
    }
   ],
   "source": [
    "len(body.find_all(class_=\"col-sm-4\"))"
   ]
  },
  {
   "cell_type": "code",
   "execution_count": 241,
   "id": "33f57ab9",
   "metadata": {},
   "outputs": [],
   "source": [
    "# body.find_all(class_=\"col-sm-4\")"
   ]
  },
  {
   "cell_type": "code",
   "execution_count": 66,
   "id": "5a73af1e",
   "metadata": {},
   "outputs": [
    {
     "data": {
      "text/plain": [
       "59"
      ]
     },
     "execution_count": 66,
     "metadata": {},
     "output_type": "execute_result"
    }
   ],
   "source": [
    "len(body.find_all(class_=\"heading-theme-primary\"))"
   ]
  },
  {
   "cell_type": "code",
   "execution_count": 242,
   "id": "2a0e405f",
   "metadata": {},
   "outputs": [
    {
     "data": {
      "text/plain": [
       "'img-crop-center'"
      ]
     },
     "execution_count": 242,
     "metadata": {},
     "output_type": "execute_result"
    }
   ],
   "source": [
    "\"col-sm-4\"\n",
    "\"heading-theme-primary\"\n",
    "\"img-crop-center\""
   ]
  },
  {
   "cell_type": "code",
   "execution_count": 67,
   "id": "6002364c",
   "metadata": {},
   "outputs": [
    {
     "data": {
      "text/plain": [
       "50"
      ]
     },
     "execution_count": 67,
     "metadata": {},
     "output_type": "execute_result"
    }
   ],
   "source": [
    "len(list)"
   ]
  },
  {
   "cell_type": "code",
   "execution_count": 237,
   "id": "cc4b6858",
   "metadata": {},
   "outputs": [],
   "source": [
    "# title=[]\n",
    "# href=[]\n",
    "# for i in body.find_all(class_=\"heading-theme-primary\"):\n",
    "#     if str(i.get(\"title\")) != \"None\":\n",
    "#         title.append(str(i.get(\"title\")))\n",
    "#         href.append(i.get(\"href\"))"
   ]
  },
  {
   "cell_type": "code",
   "execution_count": 97,
   "id": "c044d911",
   "metadata": {},
   "outputs": [
    {
     "data": {
      "text/plain": [
       "50"
      ]
     },
     "execution_count": 97,
     "metadata": {},
     "output_type": "execute_result"
    }
   ],
   "source": [
    "len(title)"
   ]
  },
  {
   "cell_type": "code",
   "execution_count": 238,
   "id": "ef430c9a",
   "metadata": {},
   "outputs": [],
   "source": [
    "# title=[]\n",
    "# for i in body.find_all(class_=\"heading-theme-primary\"):\n",
    "#     if str(i.get(\"title\")) != \"None\":\n",
    "#         title.append(str(i.get(\"title\")))"
   ]
  },
  {
   "cell_type": "code",
   "execution_count": 239,
   "id": "3a5f37d4",
   "metadata": {},
   "outputs": [],
   "source": [
    "# phone_no=[]\n",
    "# address=[]\n",
    "# for i in body.find_all(class_=\"col-sm-4\"):\n",
    "    \n",
    "#     if \"Phone No:\" in i.text:\n",
    "#         a=(i.text.split(\"Phone No:\"))\n",
    "#         phone_no.append(a[1].strip(\"\\n\"))\n",
    "#         address.append(a[0].strip(\"\\n\"))\n",
    "    "
   ]
  },
  {
   "cell_type": "code",
   "execution_count": 122,
   "id": "189ac782",
   "metadata": {},
   "outputs": [
    {
     "data": {
      "text/plain": [
       "50"
      ]
     },
     "execution_count": 122,
     "metadata": {},
     "output_type": "execute_result"
    }
   ],
   "source": [
    "len(phone_no)"
   ]
  },
  {
   "cell_type": "code",
   "execution_count": 240,
   "id": "e056c55e",
   "metadata": {},
   "outputs": [],
   "source": [
    "#address"
   ]
  },
  {
   "cell_type": "code",
   "execution_count": 243,
   "id": "1e97f50b",
   "metadata": {},
   "outputs": [],
   "source": [
    "# title=[]\n",
    "# href=[]\n",
    "# phone_no=[]\n",
    "# address=[]\n",
    "# for i in body.find_all(class_=\"heading-theme-primary\"):\n",
    "#     if str(i.get(\"title\")) != \"None\":\n",
    "#         title.append(str(i.get(\"title\")))\n",
    "#         href.append(i.get(\"href\"))"
   ]
  },
  {
   "cell_type": "markdown",
   "id": "e6682654",
   "metadata": {},
   "source": [
    "#### creating links: every page contains 40 links"
   ]
  },
  {
   "cell_type": "code",
   "execution_count": 144,
   "id": "4f564dbc",
   "metadata": {},
   "outputs": [],
   "source": [
    "string=\"https://www.businessbook.pk/location/karachi-75?per_page=\"\n",
    "link=[\"https://www.businessbook.pk/location/karachi-75\"]\n",
    "count=40\n",
    "for i in range(25):\n",
    "    link.append(string+str(count))\n",
    "    count+=40"
   ]
  },
  {
   "cell_type": "code",
   "execution_count": 146,
   "id": "cd42ec60",
   "metadata": {},
   "outputs": [
    {
     "data": {
      "text/plain": [
       "True"
      ]
     },
     "execution_count": 146,
     "metadata": {},
     "output_type": "execute_result"
    }
   ],
   "source": [
    "link[1]==\"https://www.businessbook.pk/location/karachi-75?per_page=40\""
   ]
  },
  {
   "cell_type": "code",
   "execution_count": 147,
   "id": "2b8f9d86",
   "metadata": {},
   "outputs": [],
   "source": [
    "links=[\"https://www.businessbook.pk/location/karachi-75\",\"https://www.businessbook.pk/location/karachi-75?per_page=40\",\"https://www.businessbook.pk/location/karachi-75?per_page=80\",\"https://www.businessbook.pk/location/karachi-75?per_page=120,\",\"https://www.businessbook.pk/location/karachi-75?per_page=160\",\"https://www.businessbook.pk/location/karachi-75?per_page=200\",\"https://www.businessbook.pk/location/karachi-75?per_page=240\",\"https://www.businessbook.pk/location/karachi-75?per_page=280\",\"https://www.businessbook.pk/location/karachi-75?per_page=320\",\"https://www.businessbook.pk/location/karachi-75?per_page=360\",]\n",
    "f_title=[]\n",
    "f_href=[]\n",
    "f_phone_no=[]\n",
    "f_address=[]\n",
    "for i in link:\n",
    "    \n",
    "    base_site=i\n",
    "    response=requests.get(base_site)\n",
    "    html=response.text\n",
    "    soup=BeautifulSoup(html,\"html.parser\")\n",
    "    body=soup.find(\"body\")\n",
    "    title=[]\n",
    "    href=[]\n",
    "    phone_no=[]\n",
    "    address=[]\n",
    "    for i in body.find_all(class_=\"heading-theme-primary\"):\n",
    "        if str(i.get(\"title\")) != \"None\":\n",
    "            title.append(str(i.get(\"title\")))\n",
    "            href.append(i.get(\"href\"))\n",
    "    phone_no=[]\n",
    "    address=[]\n",
    "    for j in body.find_all(class_=\"col-sm-4\"):\n",
    "\n",
    "        if \"Phone No:\" in j.text:\n",
    "            a=(j.text.split(\"Phone No:\"))\n",
    "            phone_no.append(a[1].strip(\"\\n\"))\n",
    "            address.append(a[0].strip(\"\\n\"))\n",
    "    f_title.extend(title)\n",
    "    f_href.extend(href)\n",
    "    f_phone_no.extend(phone_no)\n",
    "    f_address.extend(address)"
   ]
  },
  {
   "cell_type": "code",
   "execution_count": 148,
   "id": "d27526d6",
   "metadata": {},
   "outputs": [
    {
     "name": "stdout",
     "output_type": "stream",
     "text": [
      "1300\n",
      "1300\n",
      "1300\n",
      "1300\n"
     ]
    }
   ],
   "source": [
    "for i in [f_title,f_href,f_phone_no,f_address]:\n",
    "    print(len(i))"
   ]
  },
  {
   "cell_type": "code",
   "execution_count": 156,
   "id": "f01151e9",
   "metadata": {},
   "outputs": [
    {
     "data": {
      "text/plain": [
       "993"
      ]
     },
     "execution_count": 156,
     "metadata": {},
     "output_type": "execute_result"
    }
   ],
   "source": [
    "len(set(f_phone_no))"
   ]
  },
  {
   "cell_type": "code",
   "execution_count": 159,
   "id": "cd78e0cf",
   "metadata": {},
   "outputs": [],
   "source": [
    "import pandas as pd\n",
    "df=[]\n",
    "df=pd.DataFrame(df)"
   ]
  },
  {
   "cell_type": "code",
   "execution_count": 160,
   "id": "da17bf3b",
   "metadata": {},
   "outputs": [],
   "source": [
    "df[\"Title\"]=f_title\n",
    "df[\"Phone No\"]=f_phone_no\n",
    "df[\"Address\"]=f_address\n",
    "df[\"Link\"]=f_href"
   ]
  },
  {
   "cell_type": "code",
   "execution_count": 234,
   "id": "d28ba829",
   "metadata": {},
   "outputs": [],
   "source": [
    "# for i in df.columns:\n",
    "#     print(df[i].unique())"
   ]
  },
  {
   "cell_type": "markdown",
   "id": "9a2a78d7",
   "metadata": {},
   "source": [
    "#### still needs cleaning of phone_no "
   ]
  },
  {
   "cell_type": "code",
   "execution_count": 248,
   "id": "558dd081",
   "metadata": {},
   "outputs": [
    {
     "data": {
      "text/html": [
       "<div>\n",
       "<style scoped>\n",
       "    .dataframe tbody tr th:only-of-type {\n",
       "        vertical-align: middle;\n",
       "    }\n",
       "\n",
       "    .dataframe tbody tr th {\n",
       "        vertical-align: top;\n",
       "    }\n",
       "\n",
       "    .dataframe thead th {\n",
       "        text-align: right;\n",
       "    }\n",
       "</style>\n",
       "<table border=\"1\" class=\"dataframe\">\n",
       "  <thead>\n",
       "    <tr style=\"text-align: right;\">\n",
       "      <th></th>\n",
       "      <th>Title</th>\n",
       "      <th>Phone No</th>\n",
       "      <th>Address</th>\n",
       "      <th>Link</th>\n",
       "    </tr>\n",
       "  </thead>\n",
       "  <tbody>\n",
       "    <tr>\n",
       "      <th>0</th>\n",
       "      <td>Z.A Engineers &amp; Designers</td>\n",
       "      <td>0300-2434979, 02134221526</td>\n",
       "      <td>Plot No. L-863, Sector No. 2, North Karachi. K...</td>\n",
       "      <td>https://www.businessbook.pk/detail/z-a-enginee...</td>\n",
       "    </tr>\n",
       "    <tr>\n",
       "      <th>1</th>\n",
       "      <td>Serani Chemicals Waterproofing Company (Roof w...</td>\n",
       "      <td>03358478698, 03434321242\\n\\nClosed Now</td>\n",
       "      <td>Shop-3, Batha Town, Peoples Colony North Nazim...</td>\n",
       "      <td>https://www.businessbook.pk/detail/serani-chem...</td>\n",
       "    </tr>\n",
       "    <tr>\n",
       "      <th>2</th>\n",
       "      <td>Baraka Textile</td>\n",
       "      <td>021-32405810</td>\n",
       "      <td>Plot 72, sector 15, Korangi industrial area. K...</td>\n",
       "      <td>https://www.businessbook.pk/detail/baraka-text...</td>\n",
       "    </tr>\n",
       "    <tr>\n",
       "      <th>3</th>\n",
       "      <td>GOLDEN SEA ENTERPRISES</td>\n",
       "      <td>03432471824, 03432471824</td>\n",
       "      <td>Plot No.15, Room No.16, Rehman Trade Center Ti...</td>\n",
       "      <td>https://www.businessbook.pk/detail/golden-sea-...</td>\n",
       "    </tr>\n",
       "    <tr>\n",
       "      <th>4</th>\n",
       "      <td>Saleem Law Associates</td>\n",
       "      <td>0306-2300820, 0306-2300820</td>\n",
       "      <td>103, Sayed Arcade, Block 2, near Jheel Park, T...</td>\n",
       "      <td>https://www.businessbook.pk/detail/saleem-law-...</td>\n",
       "    </tr>\n",
       "    <tr>\n",
       "      <th>5</th>\n",
       "      <td>Ali Fumigation (Pvt.) Ltd.</td>\n",
       "      <td>0305-2144140, 021-35881762</td>\n",
       "      <td>Defence View Phase I Karachi, Sindh 75500, Pak...</td>\n",
       "      <td>https://www.businessbook.pk/detail/ali-fumigat...</td>\n",
       "    </tr>\n",
       "    <tr>\n",
       "      <th>6</th>\n",
       "      <td>Upvc Door &amp; window System Alfawin</td>\n",
       "      <td>03453931282, 03453931282</td>\n",
       "      <td>Office # 7, Muslim Town, Main Shaheed-e-Millat...</td>\n",
       "      <td>https://www.businessbook.pk/detail/upvc-door-w...</td>\n",
       "    </tr>\n",
       "    <tr>\n",
       "      <th>7</th>\n",
       "      <td>Ghar Apna</td>\n",
       "      <td>03458261615, 03111171117</td>\n",
       "      <td>Bahria Town Karachi Karachi, Sindh , Pakistan</td>\n",
       "      <td>https://www.businessbook.pk/detail/ghar-apna-k...</td>\n",
       "    </tr>\n",
       "    <tr>\n",
       "      <th>8</th>\n",
       "      <td>HR Enterprises</td>\n",
       "      <td>0321-2425499, 021-36345741</td>\n",
       "      <td>DT-89 Block 12 Federal B Area Near Gulberg Cho...</td>\n",
       "      <td>https://www.businessbook.pk/detail/hr-enterpri...</td>\n",
       "    </tr>\n",
       "    <tr>\n",
       "      <th>9</th>\n",
       "      <td>LED LCD 3D TV Repair / Home Services all over ...</td>\n",
       "      <td>0300-2999626, 0313-2680093</td>\n",
       "      <td>Over All in Karachi Karachi, Sindh , Pakistan</td>\n",
       "      <td>https://www.businessbook.pk/detail/led-lcd-3d-...</td>\n",
       "    </tr>\n",
       "    <tr>\n",
       "      <th>10</th>\n",
       "      <td>CALL &amp; CALL PEST CONTROL</td>\n",
       "      <td>0300-2000271, 02135894377</td>\n",
       "      <td>G-38, Ground Floor, Defence View, Phase-2, Nea...</td>\n",
       "      <td>https://www.businessbook.pk/detail/call-call-p...</td>\n",
       "    </tr>\n",
       "    <tr>\n",
       "      <th>11</th>\n",
       "      <td>UNION THREAD INDUSTRIES</td>\n",
       "      <td>02136834371</td>\n",
       "      <td>L-19 D Block 22 Federal-B-Area Karachi, Sindh ...</td>\n",
       "      <td>https://www.businessbook.pk/detail/union-threa...</td>\n",
       "    </tr>\n",
       "    <tr>\n",
       "      <th>12</th>\n",
       "      <td>R.K Logistics</td>\n",
       "      <td>0300-9293485, 0307-2893795</td>\n",
       "      <td>New Quaid-e-Azam Truck stand, Mari Pur khi Kar...</td>\n",
       "      <td>https://www.businessbook.pk/detail/r-k-logisti...</td>\n",
       "    </tr>\n",
       "    <tr>\n",
       "      <th>13</th>\n",
       "      <td>Pak Scaffolding</td>\n",
       "      <td>0316 2669995, 021-32819738</td>\n",
       "      <td>Plot # 373/3, Sector 5-A, Saeedabad, Baldia To...</td>\n",
       "      <td>https://www.businessbook.pk/detail/pak-scaffol...</td>\n",
       "    </tr>\n",
       "    <tr>\n",
       "      <th>14</th>\n",
       "      <td>Best 1 - Grocery Simplified</td>\n",
       "      <td>0333 0319820, 0320 9221001</td>\n",
       "      <td>Karachi, Sindh, PK Karachi, Sindh 75850, Pakis...</td>\n",
       "      <td>https://www.businessbook.pk/detail/best-1-groc...</td>\n",
       "    </tr>\n",
       "    <tr>\n",
       "      <th>15</th>\n",
       "      <td>NATIONAL HAZARA GOODS FORWARDING AGENCY</td>\n",
       "      <td>03002977531, 02132355308</td>\n",
       "      <td>Office # 636/A, Gate# 3, Street# 4,\\nNew Quaid...</td>\n",
       "      <td>https://www.businessbook.pk/detail/national-ha...</td>\n",
       "    </tr>\n",
       "    <tr>\n",
       "      <th>16</th>\n",
       "      <td>Office Furniture</td>\n",
       "      <td>+92 333 3006301, +92 333 3006301</td>\n",
       "      <td>31-C, LANE 7, KHAYABAN-E-MUSLIM, D.H.A PHASE 6...</td>\n",
       "      <td>https://www.businessbook.pk/detail/office-furn...</td>\n",
       "    </tr>\n",
       "    <tr>\n",
       "      <th>17</th>\n",
       "      <td>Superior Quality Enterprises</td>\n",
       "      <td>0314-5864055, 021-32609664</td>\n",
       "      <td>Defence Mall main Korangi Road Karachi, Sindh ...</td>\n",
       "      <td>https://www.businessbook.pk/detail/superior-qu...</td>\n",
       "    </tr>\n",
       "    <tr>\n",
       "      <th>18</th>\n",
       "      <td>Khalil Corporation</td>\n",
       "      <td>0336-2364152, 021-32626001</td>\n",
       "      <td>Suite # 214, 2nd Floor, Sawami Narayan Temple ...</td>\n",
       "      <td>https://www.businessbook.pk/detail/khalil-corp...</td>\n",
       "    </tr>\n",
       "    <tr>\n",
       "      <th>19</th>\n",
       "      <td>Spices Foods</td>\n",
       "      <td>0332-3703039, 021-33703039</td>\n",
       "      <td>16 # Gulistan e Johar Karachi, Sindh , Pakistan</td>\n",
       "      <td>https://www.businessbook.pk/detail/spices-food...</td>\n",
       "    </tr>\n",
       "  </tbody>\n",
       "</table>\n",
       "</div>"
      ],
      "text/plain": [
       "                                                Title  \\\n",
       "0                           Z.A Engineers & Designers   \n",
       "1   Serani Chemicals Waterproofing Company (Roof w...   \n",
       "2                                      Baraka Textile   \n",
       "3                              GOLDEN SEA ENTERPRISES   \n",
       "4                               Saleem Law Associates   \n",
       "5                          Ali Fumigation (Pvt.) Ltd.   \n",
       "6                   Upvc Door & window System Alfawin   \n",
       "7                                           Ghar Apna   \n",
       "8                                      HR Enterprises   \n",
       "9   LED LCD 3D TV Repair / Home Services all over ...   \n",
       "10                           CALL & CALL PEST CONTROL   \n",
       "11                            UNION THREAD INDUSTRIES   \n",
       "12                                      R.K Logistics   \n",
       "13                                    Pak Scaffolding   \n",
       "14                        Best 1 - Grocery Simplified   \n",
       "15            NATIONAL HAZARA GOODS FORWARDING AGENCY   \n",
       "16                                   Office Furniture   \n",
       "17                       Superior Quality Enterprises   \n",
       "18                                 Khalil Corporation   \n",
       "19                                       Spices Foods   \n",
       "\n",
       "                                   Phone No  \\\n",
       "0                 0300-2434979, 02134221526   \n",
       "1    03358478698, 03434321242\\n\\nClosed Now   \n",
       "2                              021-32405810   \n",
       "3                  03432471824, 03432471824   \n",
       "4                0306-2300820, 0306-2300820   \n",
       "5                0305-2144140, 021-35881762   \n",
       "6                  03453931282, 03453931282   \n",
       "7                  03458261615, 03111171117   \n",
       "8                0321-2425499, 021-36345741   \n",
       "9                0300-2999626, 0313-2680093   \n",
       "10                0300-2000271, 02135894377   \n",
       "11                              02136834371   \n",
       "12               0300-9293485, 0307-2893795   \n",
       "13               0316 2669995, 021-32819738   \n",
       "14               0333 0319820, 0320 9221001   \n",
       "15                 03002977531, 02132355308   \n",
       "16         +92 333 3006301, +92 333 3006301   \n",
       "17               0314-5864055, 021-32609664   \n",
       "18               0336-2364152, 021-32626001   \n",
       "19               0332-3703039, 021-33703039   \n",
       "\n",
       "                                              Address  \\\n",
       "0   Plot No. L-863, Sector No. 2, North Karachi. K...   \n",
       "1   Shop-3, Batha Town, Peoples Colony North Nazim...   \n",
       "2   Plot 72, sector 15, Korangi industrial area. K...   \n",
       "3   Plot No.15, Room No.16, Rehman Trade Center Ti...   \n",
       "4   103, Sayed Arcade, Block 2, near Jheel Park, T...   \n",
       "5   Defence View Phase I Karachi, Sindh 75500, Pak...   \n",
       "6   Office # 7, Muslim Town, Main Shaheed-e-Millat...   \n",
       "7      Bahria Town Karachi Karachi, Sindh , Pakistan    \n",
       "8   DT-89 Block 12 Federal B Area Near Gulberg Cho...   \n",
       "9      Over All in Karachi Karachi, Sindh , Pakistan    \n",
       "10  G-38, Ground Floor, Defence View, Phase-2, Nea...   \n",
       "11  L-19 D Block 22 Federal-B-Area Karachi, Sindh ...   \n",
       "12  New Quaid-e-Azam Truck stand, Mari Pur khi Kar...   \n",
       "13  Plot # 373/3, Sector 5-A, Saeedabad, Baldia To...   \n",
       "14  Karachi, Sindh, PK Karachi, Sindh 75850, Pakis...   \n",
       "15  Office # 636/A, Gate# 3, Street# 4,\\nNew Quaid...   \n",
       "16  31-C, LANE 7, KHAYABAN-E-MUSLIM, D.H.A PHASE 6...   \n",
       "17  Defence Mall main Korangi Road Karachi, Sindh ...   \n",
       "18  Suite # 214, 2nd Floor, Sawami Narayan Temple ...   \n",
       "19   16 # Gulistan e Johar Karachi, Sindh , Pakistan    \n",
       "\n",
       "                                                 Link  \n",
       "0   https://www.businessbook.pk/detail/z-a-enginee...  \n",
       "1   https://www.businessbook.pk/detail/serani-chem...  \n",
       "2   https://www.businessbook.pk/detail/baraka-text...  \n",
       "3   https://www.businessbook.pk/detail/golden-sea-...  \n",
       "4   https://www.businessbook.pk/detail/saleem-law-...  \n",
       "5   https://www.businessbook.pk/detail/ali-fumigat...  \n",
       "6   https://www.businessbook.pk/detail/upvc-door-w...  \n",
       "7   https://www.businessbook.pk/detail/ghar-apna-k...  \n",
       "8   https://www.businessbook.pk/detail/hr-enterpri...  \n",
       "9   https://www.businessbook.pk/detail/led-lcd-3d-...  \n",
       "10  https://www.businessbook.pk/detail/call-call-p...  \n",
       "11  https://www.businessbook.pk/detail/union-threa...  \n",
       "12  https://www.businessbook.pk/detail/r-k-logisti...  \n",
       "13  https://www.businessbook.pk/detail/pak-scaffol...  \n",
       "14  https://www.businessbook.pk/detail/best-1-groc...  \n",
       "15  https://www.businessbook.pk/detail/national-ha...  \n",
       "16  https://www.businessbook.pk/detail/office-furn...  \n",
       "17  https://www.businessbook.pk/detail/superior-qu...  \n",
       "18  https://www.businessbook.pk/detail/khalil-corp...  \n",
       "19  https://www.businessbook.pk/detail/spices-food...  "
      ]
     },
     "execution_count": 248,
     "metadata": {},
     "output_type": "execute_result"
    }
   ],
   "source": [
    "df.head(20)"
   ]
  },
  {
   "cell_type": "code",
   "execution_count": 186,
   "id": "94d1ff4d",
   "metadata": {},
   "outputs": [],
   "source": [
    "df.to_csv('business data.csv', index = False)"
   ]
  },
  {
   "cell_type": "code",
   "execution_count": null,
   "id": "e76bfdac",
   "metadata": {},
   "outputs": [],
   "source": []
  }
 ],
 "metadata": {
  "kernelspec": {
   "display_name": "Python 3 (ipykernel)",
   "language": "python",
   "name": "python3"
  },
  "language_info": {
   "codemirror_mode": {
    "name": "ipython",
    "version": 3
   },
   "file_extension": ".py",
   "mimetype": "text/x-python",
   "name": "python",
   "nbconvert_exporter": "python",
   "pygments_lexer": "ipython3",
   "version": "3.9.12"
  }
 },
 "nbformat": 4,
 "nbformat_minor": 5
}
